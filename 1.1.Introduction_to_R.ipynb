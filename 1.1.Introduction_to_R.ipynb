{
 "cells": [
  {
   "cell_type": "markdown",
   "metadata": {
    "deletable": false,
    "editable": false,
    "nbgrader": {
     "cell_type": "markdown",
     "checksum": "3a020d48e6b199ee5b99c2fdf21211f4",
     "grade": false,
     "grade_id": "cell-1974ed458c9f30c8",
     "locked": true,
     "schema_version": 3,
     "solution": false,
     "task": false
    }
   },
   "source": [
    "# Introduction to R/Jupyter\n",
    "\n",
    " This is a Jupyter Notebook. A Jupyter Notebook is an [\"open-source web application that allows you to create and share documents that contain live code, equations, visualizations and narrative text.\"](http://jupyter.org) We will use the R programming languge and LaTex typsetting in Jupyter to prepare assignments and projects (you can also use other languages in Jupyter). The purpose of this note book is to familiarize yourself with programming in R.\n",
    "\n",
    "R is a powerful open source programming language that is used for statistical computation and graphics. In many ways, it is similar to Matlab and Python (so, if you know these languages, learning R will be fairly easy!). \n",
    "\n",
    "The best way to learn R and Jupyter is to jump right in! Below we walk through how to use Jupyter and R. **Text in boldface indicates exercises that I am asking you to complete.**\n"
   ]
  },
  {
   "cell_type": "code",
   "execution_count": 174,
   "metadata": {
    "deletable": false,
    "editable": false,
    "nbgrader": {
     "cell_type": "code",
     "checksum": "ea47eda0558e21cbfde96c4d7e0f2767",
     "grade": false,
     "grade_id": "cell-b5f07b1cb0c38a80",
     "locked": true,
     "schema_version": 3,
     "solution": false,
     "task": false
    }
   },
   "outputs": [],
   "source": [
    "#This package will be used to autograde some of your answers\n",
    "library(testthat)"
   ]
  },
  {
   "cell_type": "markdown",
   "metadata": {
    "deletable": false,
    "editable": false,
    "nbgrader": {
     "cell_type": "markdown",
     "checksum": "22c8a919115a23a99b0fba2f14f13516",
     "grade": false,
     "grade_id": "cell-f57e780a9c2875b3",
     "locked": true,
     "schema_version": 3,
     "solution": false,
     "task": false
    }
   },
   "source": [
    "## Part I: Basics\n",
    "\n",
    "Jupyter has different types of cells. This cell is a \"markdown\" cell, and is used to write equations (LaTeX) and text. The other type of cell that we will use is a \"code\" cell. This is where we will program using R. You can create a new cell from the plus sign above (delete using the scissor) and select the type of cell using the drop down menu above and to the right. \n",
    "\n",
    "Note:\n",
    "\n",
    "1. In autograded assignments, don't add or delete cells. This will impact the autograder.\n",
    "2. Here's a [LaTeX cheatsheet](http://wch.github.io/latexsheet/).\n",
    "\n",
    "#### Double click on the \"Type Markdown and LaTex: $a^2$\" and type your favorite equation (come on, you know you have one...)."
   ]
  },
  {
   "cell_type": "markdown",
   "metadata": {
    "deletable": false,
    "nbgrader": {
     "cell_type": "markdown",
     "checksum": "75b28ab66c32c01ffe5ace1d1e320108",
     "grade": true,
     "grade_id": "cell-91fd505c3c55eb54",
     "locked": false,
     "points": 0,
     "schema_version": 3,
     "solution": true,
     "task": false
    }
   },
   "source": [
    "YOUR ANSWER HERE"
   ]
  },
  {
   "cell_type": "markdown",
   "metadata": {
    "deletable": false,
    "editable": false,
    "nbgrader": {
     "cell_type": "markdown",
     "checksum": "96fdd12060444bb767b7823782ad2923",
     "grade": false,
     "grade_id": "cell-585024722e94eee3",
     "locked": true,
     "schema_version": 3,
     "solution": false,
     "task": false
    }
   },
   "source": [
    "In R/code cells, you can do (almost) anything that you can do in R, from basic computations to complex statistical modeling. \n",
    "\n",
    "#### Create an R code cell below this cell. Compute the natural log of e. You may have guessed that the right functions for this are `log()` and `exp()`. But with R, you don't have to guess. You can type `?? log` to get some general information about functions related to logarithms (the same applies to other concepts); if you type \"? X\" you will get information about the specific function X (e.g., try `? exp`). Often, a Google search is a really effective way to learn about R functions."
   ]
  },
  {
   "cell_type": "code",
   "execution_count": 8,
   "metadata": {
    "deletable": false,
    "nbgrader": {
     "cell_type": "code",
     "checksum": "170a388d407eea4cbe23b8fe6704ea17",
     "grade": true,
     "grade_id": "cell-0f095b08ef5c4662",
     "locked": false,
     "points": 0,
     "schema_version": 3,
     "solution": true,
     "task": false
    }
   },
   "outputs": [
    {
     "data": {
      "text/html": [
       "0.99694863489161"
      ],
      "text/latex": [
       "0.99694863489161"
      ],
      "text/markdown": [
       "0.99694863489161"
      ],
      "text/plain": [
       "[1] 0.9969486"
      ]
     },
     "metadata": {},
     "output_type": "display_data"
    }
   ],
   "source": [
    "# your code here\n",
    "log(2.71)"
   ]
  },
  {
   "cell_type": "markdown",
   "metadata": {
    "deletable": false,
    "editable": false,
    "nbgrader": {
     "cell_type": "markdown",
     "checksum": "87dd0ec6f1a2a97958bea4a8f1f2b1bb",
     "grade": false,
     "grade_id": "cell-0b1500818db058b0",
     "locked": true,
     "schema_version": 3,
     "solution": false,
     "task": false
    }
   },
   "source": [
    "The function `c()` will allow you to create vectors (\"c\" for combine). \n",
    "\n",
    "#### In the cell below, create three vectors:\n",
    "\n",
    "1. a vector containing the numbers 1, 2, 5.3, 6, -2, 4;\n",
    "2. a vector containing the strings \"one\", \"two, and \"three\" (strings are formed in R by putting quotes around the words);\n",
    "3. a vector of logicals: `TRUE`, `TRUE`, `FALSE`, `TRUE`."
   ]
  },
  {
   "cell_type": "code",
   "execution_count": 12,
   "metadata": {
    "deletable": false,
    "nbgrader": {
     "cell_type": "code",
     "checksum": "5471c68a025e73ab9e3cb50d3405d14d",
     "grade": true,
     "grade_id": "cell-01d39d3c98243ae2",
     "locked": false,
     "points": 0,
     "schema_version": 3,
     "solution": true,
     "task": false
    }
   },
   "outputs": [
    {
     "data": {
      "text/html": [
       "<style>\n",
       ".list-inline {list-style: none; margin:0; padding: 0}\n",
       ".list-inline>li {display: inline-block}\n",
       ".list-inline>li:not(:last-child)::after {content: \"\\00b7\"; padding: 0 .5ex}\n",
       "</style>\n",
       "<ol class=list-inline><li>1</li><li>2</li><li>5.3</li><li>6</li><li>-2</li><li>4</li></ol>\n"
      ],
      "text/latex": [
       "\\begin{enumerate*}\n",
       "\\item 1\n",
       "\\item 2\n",
       "\\item 5.3\n",
       "\\item 6\n",
       "\\item -2\n",
       "\\item 4\n",
       "\\end{enumerate*}\n"
      ],
      "text/markdown": [
       "1. 1\n",
       "2. 2\n",
       "3. 5.3\n",
       "4. 6\n",
       "5. -2\n",
       "6. 4\n",
       "\n",
       "\n"
      ],
      "text/plain": [
       "[1]  1.0  2.0  5.3  6.0 -2.0  4.0"
      ]
     },
     "metadata": {},
     "output_type": "display_data"
    }
   ],
   "source": [
    "# your code here\n",
    "c(1, 2, 5.3, 6, -2, 4)"
   ]
  },
  {
   "cell_type": "markdown",
   "metadata": {
    "deletable": false,
    "editable": false,
    "nbgrader": {
     "cell_type": "markdown",
     "checksum": "a0c4e1439601150f49d4ad5673246fe3",
     "grade": false,
     "grade_id": "cell-e64757656325b475",
     "locked": true,
     "schema_version": 3,
     "solution": false,
     "task": false
    }
   },
   "source": [
    "#### Next, type `seq(1,10)` in the R cell below. What does it do? What about `seq(1, 20, by = 2)`? `seq(10, 20, len = 100)`? Why are these convenient?"
   ]
  },
  {
   "cell_type": "code",
   "execution_count": 13,
   "metadata": {
    "deletable": false,
    "nbgrader": {
     "cell_type": "code",
     "checksum": "b7ef9a5447df9f39ed258222d9b6d8c9",
     "grade": true,
     "grade_id": "cell-099a17eee4c21017",
     "locked": false,
     "points": 0,
     "schema_version": 3,
     "solution": true,
     "task": false
    }
   },
   "outputs": [
    {
     "data": {
      "text/html": [
       "<style>\n",
       ".list-inline {list-style: none; margin:0; padding: 0}\n",
       ".list-inline>li {display: inline-block}\n",
       ".list-inline>li:not(:last-child)::after {content: \"\\00b7\"; padding: 0 .5ex}\n",
       "</style>\n",
       "<ol class=list-inline><li>1</li><li>2</li><li>3</li><li>4</li><li>5</li><li>6</li><li>7</li><li>8</li><li>9</li><li>10</li></ol>\n"
      ],
      "text/latex": [
       "\\begin{enumerate*}\n",
       "\\item 1\n",
       "\\item 2\n",
       "\\item 3\n",
       "\\item 4\n",
       "\\item 5\n",
       "\\item 6\n",
       "\\item 7\n",
       "\\item 8\n",
       "\\item 9\n",
       "\\item 10\n",
       "\\end{enumerate*}\n"
      ],
      "text/markdown": [
       "1. 1\n",
       "2. 2\n",
       "3. 3\n",
       "4. 4\n",
       "5. 5\n",
       "6. 6\n",
       "7. 7\n",
       "8. 8\n",
       "9. 9\n",
       "10. 10\n",
       "\n",
       "\n"
      ],
      "text/plain": [
       " [1]  1  2  3  4  5  6  7  8  9 10"
      ]
     },
     "metadata": {},
     "output_type": "display_data"
    }
   ],
   "source": [
    "# your code here\n",
    "seq(1, 10)"
   ]
  },
  {
   "cell_type": "markdown",
   "metadata": {
    "deletable": false,
    "editable": false,
    "nbgrader": {
     "cell_type": "markdown",
     "checksum": "84ade334f6efd872fac0710f998a0f24",
     "grade": false,
     "grade_id": "cell-d0f131df5c28546e",
     "locked": true,
     "schema_version": 3,
     "solution": false,
     "task": false
    }
   },
   "source": [
    "#### What does the `rep()` function do? This function can take in several arguments. To see what they are, use the help file! Explore the arguments `times` and `each`. What do they do?"
   ]
  },
  {
   "cell_type": "code",
   "execution_count": 15,
   "metadata": {
    "deletable": false,
    "nbgrader": {
     "cell_type": "code",
     "checksum": "dd61fe9b7f7cca0a8d6ef138325c7c45",
     "grade": true,
     "grade_id": "cell-2c38a58722e63c68",
     "locked": false,
     "points": 0,
     "schema_version": 3,
     "solution": true,
     "task": false
    }
   },
   "outputs": [],
   "source": [
    "# your code here\n",
    "# rep(11, 4)\n",
    "?? rep"
   ]
  },
  {
   "cell_type": "markdown",
   "metadata": {
    "deletable": false,
    "editable": false,
    "nbgrader": {
     "cell_type": "markdown",
     "checksum": "6a19b96be7c8f0dac2fb0bff3da76d88",
     "grade": false,
     "grade_id": "cell-c19db1161fe38f54",
     "locked": true,
     "schema_version": 3,
     "solution": false,
     "task": false
    }
   },
   "source": [
    "You can store vectors in R using ${\\tt =}$ or ${\\tt <-}$. \n",
    "\n",
    "#### Store the numbers 1 through 5 in a vector `v1`. Create another vector, `v2`, and join it together in a new vector, `new`.\n",
    "\n",
    "*Note: This will be an autograded answer. The autograder will check whether you store the correct values in `v1`*."
   ]
  },
  {
   "cell_type": "code",
   "execution_count": 20,
   "metadata": {
    "deletable": false,
    "nbgrader": {
     "cell_type": "code",
     "checksum": "a7df67313d4ef96bb26f34bd7497a930",
     "grade": false,
     "grade_id": "cell-12f79b87845bfa3f",
     "locked": false,
     "schema_version": 3,
     "solution": true,
     "task": false
    }
   },
   "outputs": [
    {
     "data": {
      "text/html": [
       "<style>\n",
       ".list-inline {list-style: none; margin:0; padding: 0}\n",
       ".list-inline>li {display: inline-block}\n",
       ".list-inline>li:not(:last-child)::after {content: \"\\00b7\"; padding: 0 .5ex}\n",
       "</style>\n",
       "<ol class=list-inline><li>0</li><li>1</li><li>2</li><li>3</li><li>4</li><li>5</li></ol>\n"
      ],
      "text/latex": [
       "\\begin{enumerate*}\n",
       "\\item 0\n",
       "\\item 1\n",
       "\\item 2\n",
       "\\item 3\n",
       "\\item 4\n",
       "\\item 5\n",
       "\\end{enumerate*}\n"
      ],
      "text/markdown": [
       "1. 0\n",
       "2. 1\n",
       "3. 2\n",
       "4. 3\n",
       "5. 4\n",
       "6. 5\n",
       "\n",
       "\n"
      ],
      "text/plain": [
       "[1] 0 1 2 3 4 5"
      ]
     },
     "metadata": {},
     "output_type": "display_data"
    },
    {
     "data": {
      "text/html": [
       "<style>\n",
       ".list-inline {list-style: none; margin:0; padding: 0}\n",
       ".list-inline>li {display: inline-block}\n",
       ".list-inline>li:not(:last-child)::after {content: \"\\00b7\"; padding: 0 .5ex}\n",
       "</style>\n",
       "<ol class=list-inline><li>0</li><li>1</li><li>2</li><li>3</li><li>4</li><li>5</li><li>9</li><li>10</li><li>1</li></ol>\n"
      ],
      "text/latex": [
       "\\begin{enumerate*}\n",
       "\\item 0\n",
       "\\item 1\n",
       "\\item 2\n",
       "\\item 3\n",
       "\\item 4\n",
       "\\item 5\n",
       "\\item 9\n",
       "\\item 10\n",
       "\\item 1\n",
       "\\end{enumerate*}\n"
      ],
      "text/markdown": [
       "1. 0\n",
       "2. 1\n",
       "3. 2\n",
       "4. 3\n",
       "5. 4\n",
       "6. 5\n",
       "7. 9\n",
       "8. 10\n",
       "9. 1\n",
       "\n",
       "\n"
      ],
      "text/plain": [
       "[1]  0  1  2  3  4  5  9 10  1"
      ]
     },
     "metadata": {},
     "output_type": "display_data"
    }
   ],
   "source": [
    "#assign 1, 2, 3, 4, 5 to the variable v1\n",
    "# your code here\n",
    "\n",
    "v1 = seq(0, 5)\n",
    "\n",
    "#accessing data stored in variable v1\n",
    "v1 \n",
    "#create two vectors, then join them together in a new vector\n",
    "v2 = c(9, 10, 1)\n",
    "new = c(v1, v2)\n",
    "new"
   ]
  },
  {
   "cell_type": "code",
   "execution_count": null,
   "metadata": {
    "deletable": false,
    "editable": false,
    "nbgrader": {
     "cell_type": "code",
     "checksum": "6e129d0848513f3f5716d1d10145abf5",
     "grade": true,
     "grade_id": "cell-1d076232e48b3d64",
     "locked": true,
     "points": 1,
     "schema_version": 3,
     "solution": false,
     "task": false
    }
   },
   "outputs": [],
   "source": [
    "# Test Cell"
   ]
  },
  {
   "cell_type": "markdown",
   "metadata": {
    "deletable": false,
    "editable": false,
    "nbgrader": {
     "cell_type": "markdown",
     "checksum": "56187bc8652ec974253403ed97180d85",
     "grade": false,
     "grade_id": "cell-7dd455f2c87eb94f",
     "locked": true,
     "schema_version": 3,
     "solution": false,
     "task": false
    }
   },
   "source": [
    "Factors, also known as categorical/qualitative variables, are important in statistics. \"Shoe color\" (Black, Brown, etc.), \"drink size\" (S, M, L) and \"espresso roast\" (Light, Medium, Dark) are examples of factors. Below, in `f1`, create a factor with six groups, labeled 1 through 6, and one unit in each group, using the `factor()` function; note that R treats these values as factors; so, for example, you can't multiply `f1` by a number. Try multiplying `f1` by 3..."
   ]
  },
  {
   "cell_type": "code",
   "execution_count": 172,
   "metadata": {
    "deletable": false,
    "nbgrader": {
     "cell_type": "code",
     "checksum": "c06d329b81e80bc5e98496fee6e7863c",
     "grade": false,
     "grade_id": "cell-5df81cab1c31eddd",
     "locked": false,
     "schema_version": 3,
     "solution": true,
     "task": false
    }
   },
   "outputs": [
    {
     "data": {
      "text/html": [
       "<style>\n",
       ".list-inline {list-style: none; margin:0; padding: 0}\n",
       ".list-inline>li {display: inline-block}\n",
       ".list-inline>li:not(:last-child)::after {content: \"\\00b7\"; padding: 0 .5ex}\n",
       "</style>\n",
       "<ol class=list-inline><li>a</li><li>7</li><li>blue</li><li>blue</li></ol>\n",
       "\n",
       "<details>\n",
       "\t<summary style=display:list-item;cursor:pointer>\n",
       "\t\t<strong>Levels</strong>:\n",
       "\t</summary>\n",
       "\t<style>\n",
       "\t.list-inline {list-style: none; margin:0; padding: 0}\n",
       "\t.list-inline>li {display: inline-block}\n",
       "\t.list-inline>li:not(:last-child)::after {content: \"\\00b7\"; padding: 0 .5ex}\n",
       "\t</style>\n",
       "\t<ol class=list-inline><li>'7'</li><li>'a'</li><li>'blue'</li></ol>\n",
       "</details>"
      ],
      "text/latex": [
       "\\begin{enumerate*}\n",
       "\\item a\n",
       "\\item 7\n",
       "\\item blue\n",
       "\\item blue\n",
       "\\end{enumerate*}\n",
       "\n",
       "\\emph{Levels}: \\begin{enumerate*}\n",
       "\\item '7'\n",
       "\\item 'a'\n",
       "\\item 'blue'\n",
       "\\end{enumerate*}\n"
      ],
      "text/markdown": [
       "1. a\n",
       "2. 7\n",
       "3. blue\n",
       "4. blue\n",
       "\n",
       "\n",
       "\n",
       "**Levels**: 1. '7'\n",
       "2. 'a'\n",
       "3. 'blue'\n",
       "\n",
       "\n"
      ],
      "text/plain": [
       "[1] a    7    blue blue\n",
       "Levels: 7 a blue"
      ]
     },
     "metadata": {},
     "output_type": "display_data"
    }
   ],
   "source": [
    "# your code here\n",
    "\n",
    "\n",
    "f1 = factor(c(seq(1, 6)))\n",
    "f2 = factor(c(\"a\",7,\"blue\", \"blue\"))\n",
    "f2\n",
    "\n",
    "#f1*3\n",
    "# c(seq(1, 6)) * 3"
   ]
  },
  {
   "cell_type": "code",
   "execution_count": null,
   "metadata": {
    "deletable": false,
    "editable": false,
    "nbgrader": {
     "cell_type": "code",
     "checksum": "31ca68570a4dc4c76e3eae6fd598c71c",
     "grade": true,
     "grade_id": "cell-778f6a3767007501",
     "locked": true,
     "points": 1,
     "schema_version": 3,
     "solution": false,
     "task": false
    }
   },
   "outputs": [],
   "source": [
    "# Test Cell"
   ]
  },
  {
   "cell_type": "markdown",
   "metadata": {
    "deletable": false,
    "editable": false,
    "nbgrader": {
     "cell_type": "markdown",
     "checksum": "c05b791e1467d843887d842aa33d61a9",
     "grade": false,
     "grade_id": "cell-a0efddce3ba47f00",
     "locked": true,
     "schema_version": 3,
     "solution": false,
     "task": false
    }
   },
   "source": [
    "#### In the code cell below, I've written several commonly used functions. Explore. Change/add some arguments. See the power of R! \n",
    "\n",
    "Note that the first function creates (pseudo) random numbers from a normal distribution. Don't worry if you don't know what that is yet; we'll learn about it. But R can generate random numbers...that's cool!"
   ]
  },
  {
   "cell_type": "code",
   "execution_count": 229,
   "metadata": {},
   "outputs": [
    {
     "data": {
      "text/html": [
       "'length'"
      ],
      "text/latex": [
       "'length'"
      ],
      "text/markdown": [
       "'length'"
      ],
      "text/plain": [
       "[1] \"length\""
      ]
     },
     "metadata": {},
     "output_type": "display_data"
    },
    {
     "data": {
      "text/html": [
       "50"
      ],
      "text/latex": [
       "50"
      ],
      "text/markdown": [
       "50"
      ],
      "text/plain": [
       "[1] 50"
      ]
     },
     "metadata": {},
     "output_type": "display_data"
    },
    {
     "data": {
      "text/html": [
       "'sum'"
      ],
      "text/latex": [
       "'sum'"
      ],
      "text/markdown": [
       "'sum'"
      ],
      "text/plain": [
       "[1] \"sum\""
      ]
     },
     "metadata": {},
     "output_type": "display_data"
    },
    {
     "data": {
      "text/html": [
       "257.319076120481"
      ],
      "text/latex": [
       "257.319076120481"
      ],
      "text/markdown": [
       "257.319076120481"
      ],
      "text/plain": [
       "[1] 257.3191"
      ]
     },
     "metadata": {},
     "output_type": "display_data"
    },
    {
     "data": {
      "text/html": [
       "'mean'"
      ],
      "text/latex": [
       "'mean'"
      ],
      "text/markdown": [
       "'mean'"
      ],
      "text/plain": [
       "[1] \"mean\""
      ]
     },
     "metadata": {},
     "output_type": "display_data"
    },
    {
     "data": {
      "text/html": [
       "5.14638152240962"
      ],
      "text/latex": [
       "5.14638152240962"
      ],
      "text/markdown": [
       "5.14638152240962"
      ],
      "text/plain": [
       "[1] 5.146382"
      ]
     },
     "metadata": {},
     "output_type": "display_data"
    },
    {
     "data": {
      "text/html": [
       "'var'"
      ],
      "text/latex": [
       "'var'"
      ],
      "text/markdown": [
       "'var'"
      ],
      "text/plain": [
       "[1] \"var\""
      ]
     },
     "metadata": {},
     "output_type": "display_data"
    },
    {
     "data": {
      "text/html": [
       "1.13885705743811"
      ],
      "text/latex": [
       "1.13885705743811"
      ],
      "text/markdown": [
       "1.13885705743811"
      ],
      "text/plain": [
       "[1] 1.138857"
      ]
     },
     "metadata": {},
     "output_type": "display_data"
    },
    {
     "data": {
      "text/html": [
       "'sd'"
      ],
      "text/latex": [
       "'sd'"
      ],
      "text/markdown": [
       "'sd'"
      ],
      "text/plain": [
       "[1] \"sd\""
      ]
     },
     "metadata": {},
     "output_type": "display_data"
    },
    {
     "data": {
      "text/html": [
       "1.06717245908902"
      ],
      "text/latex": [
       "1.06717245908902"
      ],
      "text/markdown": [
       "1.06717245908902"
      ],
      "text/plain": [
       "[1] 1.067172"
      ]
     },
     "metadata": {},
     "output_type": "display_data"
    },
    {
     "data": {
      "text/html": [
       "'median'"
      ],
      "text/latex": [
       "'median'"
      ],
      "text/markdown": [
       "'median'"
      ],
      "text/plain": [
       "[1] \"median\""
      ]
     },
     "metadata": {},
     "output_type": "display_data"
    },
    {
     "data": {
      "text/html": [
       "4.92831542614512"
      ],
      "text/latex": [
       "4.92831542614512"
      ],
      "text/markdown": [
       "4.92831542614512"
      ],
      "text/plain": [
       "[1] 4.928315"
      ]
     },
     "metadata": {},
     "output_type": "display_data"
    },
    {
     "data": {
      "text/html": [
       "'range'"
      ],
      "text/latex": [
       "'range'"
      ],
      "text/markdown": [
       "'range'"
      ],
      "text/plain": [
       "[1] \"range\""
      ]
     },
     "metadata": {},
     "output_type": "display_data"
    },
    {
     "data": {
      "text/html": [
       "<style>\n",
       ".list-inline {list-style: none; margin:0; padding: 0}\n",
       ".list-inline>li {display: inline-block}\n",
       ".list-inline>li:not(:last-child)::after {content: \"\\00b7\"; padding: 0 .5ex}\n",
       "</style>\n",
       "<ol class=list-inline><li>2.91378990706708</li><li>7.44139485614186</li></ol>\n"
      ],
      "text/latex": [
       "\\begin{enumerate*}\n",
       "\\item 2.91378990706708\n",
       "\\item 7.44139485614186\n",
       "\\end{enumerate*}\n"
      ],
      "text/markdown": [
       "1. 2.91378990706708\n",
       "2. 7.44139485614186\n",
       "\n",
       "\n"
      ],
      "text/plain": [
       "[1] 2.913790 7.441395"
      ]
     },
     "metadata": {},
     "output_type": "display_data"
    },
    {
     "data": {
      "text/html": [
       "'log'"
      ],
      "text/latex": [
       "'log'"
      ],
      "text/markdown": [
       "'log'"
      ],
      "text/plain": [
       "[1] \"log\""
      ]
     },
     "metadata": {},
     "output_type": "display_data"
    },
    {
     "data": {
      "text/html": [
       "<style>\n",
       ".list-inline {list-style: none; margin:0; padding: 0}\n",
       ".list-inline>li {display: inline-block}\n",
       ".list-inline>li:not(:last-child)::after {content: \"\\00b7\"; padding: 0 .5ex}\n",
       "</style>\n",
       "<ol class=list-inline><li>1.90532777864172</li><li>1.50842980065726</li><li>1.2210603918441</li><li>1.57590638432736</li><li>1.97753741032</li><li>1.4681671772013</li><li>1.41069471039442</li><li>1.72558507434471</li><li>1.93933884550164</li><li>1.70964325032198</li><li>1.46905743065503</li><li>1.6735725505612</li><li>1.44183648367293</li><li>1.58457417396146</li><li>1.64930548685112</li><li>1.58973975617625</li><li>1.66723228604412</li><li>1.74196343630172</li><li>1.73459776282571</li><li>1.89591310379645</li><li>1.41820634482217</li><li>1.55735721469318</li><li>1.58188920797078</li><li>1.96818101613509</li><li>1.89899611075298</li><li>1.69822067270987</li><li>1.44692327421913</li><li>1.60178567163891</li><li>1.49635312665378</li><li>1.65689089525078</li><li>1.76383813174382</li><li>1.58269089329346</li><li>1.63820558026741</li><li>1.53313061469037</li><li>1.06945460739316</li><li>1.29314599383557</li><li>2.00705831193693</li><li>1.78804208001161</li><li>1.41602383154537</li><li>1.4640372187142</li><li>1.9030155660835</li><li>1.60022720950376</li><li>1.41810425987908</li><li>1.81006780954701</li><li>1.16055316226549</li><li>1.86689714032815</li><li>1.52339826779883</li><li>1.58232222265317</li><li>1.53685321061947</li><li>1.67570258242119</li></ol>\n"
      ],
      "text/latex": [
       "\\begin{enumerate*}\n",
       "\\item 1.90532777864172\n",
       "\\item 1.50842980065726\n",
       "\\item 1.2210603918441\n",
       "\\item 1.57590638432736\n",
       "\\item 1.97753741032\n",
       "\\item 1.4681671772013\n",
       "\\item 1.41069471039442\n",
       "\\item 1.72558507434471\n",
       "\\item 1.93933884550164\n",
       "\\item 1.70964325032198\n",
       "\\item 1.46905743065503\n",
       "\\item 1.6735725505612\n",
       "\\item 1.44183648367293\n",
       "\\item 1.58457417396146\n",
       "\\item 1.64930548685112\n",
       "\\item 1.58973975617625\n",
       "\\item 1.66723228604412\n",
       "\\item 1.74196343630172\n",
       "\\item 1.73459776282571\n",
       "\\item 1.89591310379645\n",
       "\\item 1.41820634482217\n",
       "\\item 1.55735721469318\n",
       "\\item 1.58188920797078\n",
       "\\item 1.96818101613509\n",
       "\\item 1.89899611075298\n",
       "\\item 1.69822067270987\n",
       "\\item 1.44692327421913\n",
       "\\item 1.60178567163891\n",
       "\\item 1.49635312665378\n",
       "\\item 1.65689089525078\n",
       "\\item 1.76383813174382\n",
       "\\item 1.58269089329346\n",
       "\\item 1.63820558026741\n",
       "\\item 1.53313061469037\n",
       "\\item 1.06945460739316\n",
       "\\item 1.29314599383557\n",
       "\\item 2.00705831193693\n",
       "\\item 1.78804208001161\n",
       "\\item 1.41602383154537\n",
       "\\item 1.4640372187142\n",
       "\\item 1.9030155660835\n",
       "\\item 1.60022720950376\n",
       "\\item 1.41810425987908\n",
       "\\item 1.81006780954701\n",
       "\\item 1.16055316226549\n",
       "\\item 1.86689714032815\n",
       "\\item 1.52339826779883\n",
       "\\item 1.58232222265317\n",
       "\\item 1.53685321061947\n",
       "\\item 1.67570258242119\n",
       "\\end{enumerate*}\n"
      ],
      "text/markdown": [
       "1. 1.90532777864172\n",
       "2. 1.50842980065726\n",
       "3. 1.2210603918441\n",
       "4. 1.57590638432736\n",
       "5. 1.97753741032\n",
       "6. 1.4681671772013\n",
       "7. 1.41069471039442\n",
       "8. 1.72558507434471\n",
       "9. 1.93933884550164\n",
       "10. 1.70964325032198\n",
       "11. 1.46905743065503\n",
       "12. 1.6735725505612\n",
       "13. 1.44183648367293\n",
       "14. 1.58457417396146\n",
       "15. 1.64930548685112\n",
       "16. 1.58973975617625\n",
       "17. 1.66723228604412\n",
       "18. 1.74196343630172\n",
       "19. 1.73459776282571\n",
       "20. 1.89591310379645\n",
       "21. 1.41820634482217\n",
       "22. 1.55735721469318\n",
       "23. 1.58188920797078\n",
       "24. 1.96818101613509\n",
       "25. 1.89899611075298\n",
       "26. 1.69822067270987\n",
       "27. 1.44692327421913\n",
       "28. 1.60178567163891\n",
       "29. 1.49635312665378\n",
       "30. 1.65689089525078\n",
       "31. 1.76383813174382\n",
       "32. 1.58269089329346\n",
       "33. 1.63820558026741\n",
       "34. 1.53313061469037\n",
       "35. 1.06945460739316\n",
       "36. 1.29314599383557\n",
       "37. 2.00705831193693\n",
       "38. 1.78804208001161\n",
       "39. 1.41602383154537\n",
       "40. 1.4640372187142\n",
       "41. 1.9030155660835\n",
       "42. 1.60022720950376\n",
       "43. 1.41810425987908\n",
       "44. 1.81006780954701\n",
       "45. 1.16055316226549\n",
       "46. 1.86689714032815\n",
       "47. 1.52339826779883\n",
       "48. 1.58232222265317\n",
       "49. 1.53685321061947\n",
       "50. 1.67570258242119\n",
       "\n",
       "\n"
      ],
      "text/plain": [
       " [1] 1.905328 1.508430 1.221060 1.575906 1.977537 1.468167 1.410695 1.725585\n",
       " [9] 1.939339 1.709643 1.469057 1.673573 1.441836 1.584574 1.649305 1.589740\n",
       "[17] 1.667232 1.741963 1.734598 1.895913 1.418206 1.557357 1.581889 1.968181\n",
       "[25] 1.898996 1.698221 1.446923 1.601786 1.496353 1.656891 1.763838 1.582691\n",
       "[33] 1.638206 1.533131 1.069455 1.293146 2.007058 1.788042 1.416024 1.464037\n",
       "[41] 1.903016 1.600227 1.418104 1.810068 1.160553 1.866897 1.523398 1.582322\n",
       "[49] 1.536853 1.675703"
      ]
     },
     "metadata": {},
     "output_type": "display_data"
    },
    {
     "data": {
      "text/html": [
       "'summary'"
      ],
      "text/latex": [
       "'summary'"
      ],
      "text/markdown": [
       "'summary'"
      ],
      "text/plain": [
       "[1] \"summary\""
      ]
     },
     "metadata": {},
     "output_type": "display_data"
    },
    {
     "data": {
      "text/plain": [
       "   Min. 1st Qu.  Median    Mean 3rd Qu.    Max. \n",
       "  2.914   4.375   4.928   5.146   5.698   7.441 "
      ]
     },
     "metadata": {},
     "output_type": "display_data"
    },
    {
     "data": {
      "image/png": "[encoded data removed]",
      "text/plain": [
       "Plot with title “Histogram of x”"
      ]
     },
     "metadata": {
      "image/png": {
       "height": 420,
       "width": 420
      },
      "text/plain": {
       "height": 420,
       "width": 420
      }
     },
     "output_type": "display_data"
    },
    {
     "data": {
      "image/png": "[encoded data removed]",
      "text/plain": [
       "Plot with title “Histogram of x”"
      ]
     },
     "metadata": {
      "image/png": {
       "height": 420,
       "width": 420
      },
      "text/plain": {
       "height": 420,
       "width": 420
      }
     },
     "output_type": "display_data"
    }
   ],
   "source": [
    "x <- rnorm(50, mean=5, sd=1) #generates 50 random numbers from a gaussian with mean 5 and sd 1. Don't worry...you'll know what this means soon!\n",
    "hist(x, density = 20)\n",
    "\"length\"\n",
    "length(x) #return the length of x\n",
    "'sum'\n",
    "sum(x) #sum the numbers in x\n",
    "'mean'\n",
    "mean(x) #calculate the mean of the numbers in x\n",
    "'var'\n",
    "var(x) #calculate the variance of the numbers in x\n",
    "'sd'\n",
    "sd(x) #calculate the standard deviation of x\n",
    "'median'\n",
    "median(x) #calculate the median of x\n",
    "'range'\n",
    "range(x) #calculate the range of x\n",
    "'log'\n",
    "log(x) #calculate the natural log of x\n",
    "'summary'\n",
    "summary(x) #return 5-number summary of x\n",
    "# hist(log(x), density=20)\n",
    "\n",
    "hist(x, density = 20, freq = FALSE) #histogram of those random numbers; freq = FALSE makes x a 'density' (integrates to 1); density shades the boxes\n",
    "curve(dnorm(x,mean = mean(x),sd = sd(x)),from = min(x), to = max(x), add = TRUE) #overlay of normal density"
   ]
  },
  {
   "cell_type": "markdown",
   "metadata": {
    "deletable": false,
    "editable": false,
    "nbgrader": {
     "cell_type": "markdown",
     "checksum": "938c1268b10728bf6656c9c30ca3ce42",
     "grade": false,
     "grade_id": "cell-d05143cf1e54cf41",
     "locked": true,
     "schema_version": 3,
     "solution": false,
     "task": false
    }
   },
   "source": [
    "# Part II: Vector Indexing\n",
    "\n",
    "R (like Matlab and Python) has a nice indexing system. Given a matrix $A$, we can access the $[i,j]$ element of $A$ by writing `A[i,j]`. We can access the $i^{th}$ row by typing `A[i,]`. And, we can access the $j^{th}$ column by typing `A[,j]`. And, we can do even fancier things too...\n",
    "\n",
    "#### Modify the third line of code below to access the second, fourth, and sixth elements of the vector `a`. Take note of whether R starts indexing at 0 or 1!  Also, note that the last line uses the minus sign to access elements *other than* those specified in the index."
   ]
  },
  {
   "cell_type": "code",
   "execution_count": 39,
   "metadata": {},
   "outputs": [
    {
     "data": {
      "text/html": [
       "<style>\n",
       ".list-inline {list-style: none; margin:0; padding: 0}\n",
       ".list-inline>li {display: inline-block}\n",
       ".list-inline>li:not(:last-child)::after {content: \"\\00b7\"; padding: 0 .5ex}\n",
       "</style>\n",
       "<ol class=list-inline><li>2</li><li>4</li><li>6</li><li>8</li><li>10</li><li>12</li><li>14</li><li>16</li></ol>\n"
      ],
      "text/latex": [
       "\\begin{enumerate*}\n",
       "\\item 2\n",
       "\\item 4\n",
       "\\item 6\n",
       "\\item 8\n",
       "\\item 10\n",
       "\\item 12\n",
       "\\item 14\n",
       "\\item 16\n",
       "\\end{enumerate*}\n"
      ],
      "text/markdown": [
       "1. 2\n",
       "2. 4\n",
       "3. 6\n",
       "4. 8\n",
       "5. 10\n",
       "6. 12\n",
       "7. 14\n",
       "8. 16\n",
       "\n",
       "\n"
      ],
      "text/plain": [
       "[1]  2  4  6  8 10 12 14 16"
      ]
     },
     "metadata": {},
     "output_type": "display_data"
    },
    {
     "data": {
      "text/html": [
       "<style>\n",
       ".list-inline {list-style: none; margin:0; padding: 0}\n",
       ".list-inline>li {display: inline-block}\n",
       ".list-inline>li:not(:last-child)::after {content: \"\\00b7\"; padding: 0 .5ex}\n",
       "</style>\n",
       "<ol class=list-inline><li>2</li><li>8</li></ol>\n"
      ],
      "text/latex": [
       "\\begin{enumerate*}\n",
       "\\item 2\n",
       "\\item 8\n",
       "\\end{enumerate*}\n"
      ],
      "text/markdown": [
       "1. 2\n",
       "2. 8\n",
       "\n",
       "\n"
      ],
      "text/plain": [
       "[1] 2 8"
      ]
     },
     "metadata": {},
     "output_type": "display_data"
    },
    {
     "data": {
      "text/html": [
       "<style>\n",
       ".list-inline {list-style: none; margin:0; padding: 0}\n",
       ".list-inline>li {display: inline-block}\n",
       ".list-inline>li:not(:last-child)::after {content: \"\\00b7\"; padding: 0 .5ex}\n",
       "</style>\n",
       "<ol class=list-inline><li>-1</li><li>-5</li></ol>\n"
      ],
      "text/latex": [
       "\\begin{enumerate*}\n",
       "\\item -1\n",
       "\\item -5\n",
       "\\end{enumerate*}\n"
      ],
      "text/markdown": [
       "1. -1\n",
       "2. -5\n",
       "\n",
       "\n"
      ],
      "text/plain": [
       "[1] -1 -5"
      ]
     },
     "metadata": {},
     "output_type": "display_data"
    },
    {
     "data": {
      "text/html": [
       "<style>\n",
       ".list-inline {list-style: none; margin:0; padding: 0}\n",
       ".list-inline>li {display: inline-block}\n",
       ".list-inline>li:not(:last-child)::after {content: \"\\00b7\"; padding: 0 .5ex}\n",
       "</style>\n",
       "<ol class=list-inline><li>4</li><li>6</li><li>8</li><li>12</li><li>14</li><li>16</li></ol>\n"
      ],
      "text/latex": [
       "\\begin{enumerate*}\n",
       "\\item 4\n",
       "\\item 6\n",
       "\\item 8\n",
       "\\item 12\n",
       "\\item 14\n",
       "\\item 16\n",
       "\\end{enumerate*}\n"
      ],
      "text/markdown": [
       "1. 4\n",
       "2. 6\n",
       "3. 8\n",
       "4. 12\n",
       "5. 14\n",
       "6. 16\n",
       "\n",
       "\n"
      ],
      "text/plain": [
       "[1]  4  6  8 12 14 16"
      ]
     },
     "metadata": {},
     "output_type": "display_data"
    }
   ],
   "source": [
    "a = seq(2, 16, by = 2)\n",
    "a\n",
    "a[c(1, 4)]\n",
    "\n",
    "###\n",
    "-c(1,5)\n",
    "a[-c(1,5)]"
   ]
  },
  {
   "cell_type": "markdown",
   "metadata": {
    "deletable": false,
    "editable": false,
    "nbgrader": {
     "cell_type": "markdown",
     "checksum": "2e09b12faeeb44698c5914c8717ffc8c",
     "grade": false,
     "grade_id": "cell-10bddd1785dbae2f",
     "locked": true,
     "schema_version": 3,
     "solution": false,
     "task": false
    }
   },
   "source": [
    "#### Write code that prints the third through sixth elements of `a` and store it in a variable `b` (there's a short and long way)."
   ]
  },
  {
   "cell_type": "code",
   "execution_count": 115,
   "metadata": {
    "deletable": false,
    "nbgrader": {
     "cell_type": "code",
     "checksum": "0e6712f976dd7833c4076a12a8c86997",
     "grade": false,
     "grade_id": "cell-ca2b0c3789a469ff",
     "locked": false,
     "schema_version": 3,
     "solution": true,
     "task": false
    }
   },
   "outputs": [
    {
     "data": {
      "text/html": [
       "<style>\n",
       ".list-inline {list-style: none; margin:0; padding: 0}\n",
       ".list-inline>li {display: inline-block}\n",
       ".list-inline>li:not(:last-child)::after {content: \"\\00b7\"; padding: 0 .5ex}\n",
       "</style>\n",
       "<ol class=list-inline><li>6</li><li>8</li><li>10</li><li>12</li></ol>\n"
      ],
      "text/latex": [
       "\\begin{enumerate*}\n",
       "\\item 6\n",
       "\\item 8\n",
       "\\item 10\n",
       "\\item 12\n",
       "\\end{enumerate*}\n"
      ],
      "text/markdown": [
       "1. 6\n",
       "2. 8\n",
       "3. 10\n",
       "4. 12\n",
       "\n",
       "\n"
      ],
      "text/plain": [
       "[1]  6  8 10 12"
      ]
     },
     "metadata": {},
     "output_type": "display_data"
    }
   ],
   "source": [
    "# your code here\n",
    "b = a[seq(3, 6)]\n",
    "b"
   ]
  },
  {
   "cell_type": "code",
   "execution_count": 116,
   "metadata": {
    "deletable": false,
    "editable": false,
    "nbgrader": {
     "cell_type": "code",
     "checksum": "ac0aade7e09c29f1ddaaf5c58fe1c7b6",
     "grade": true,
     "grade_id": "cell-208c44d46b6a9f4a",
     "locked": true,
     "points": 1,
     "schema_version": 3,
     "solution": false,
     "task": false
    }
   },
   "outputs": [],
   "source": [
    "# Test Cell"
   ]
  },
  {
   "cell_type": "markdown",
   "metadata": {
    "deletable": false,
    "editable": false,
    "nbgrader": {
     "cell_type": "markdown",
     "checksum": "c42e4b1aae7859768be3e0cd2ea5b9cd",
     "grade": false,
     "grade_id": "cell-7a5919d10f0ff115",
     "locked": true,
     "schema_version": 3,
     "solution": false,
     "task": false
    }
   },
   "source": [
    "Logical indexing is another powerful tool for working with data in R. \n",
    "\n",
    "#### Let's start with typing things like `a > 10`, `a <= 4`, `a == 10`, and `a != 10`. What do these lines do?"
   ]
  },
  {
   "cell_type": "code",
   "execution_count": 44,
   "metadata": {
    "deletable": false,
    "nbgrader": {
     "cell_type": "code",
     "checksum": "fbfb3952f19f6c8eb77d92b618090e2c",
     "grade": true,
     "grade_id": "cell-82ec56dcfad8858e",
     "locked": false,
     "points": 0,
     "schema_version": 3,
     "solution": true,
     "task": false
    }
   },
   "outputs": [
    {
     "data": {
      "text/html": [
       "<style>\n",
       ".list-inline {list-style: none; margin:0; padding: 0}\n",
       ".list-inline>li {display: inline-block}\n",
       ".list-inline>li:not(:last-child)::after {content: \"\\00b7\"; padding: 0 .5ex}\n",
       "</style>\n",
       "<ol class=list-inline><li>FALSE</li><li>FALSE</li><li>FALSE</li><li>FALSE</li><li>FALSE</li><li>TRUE</li><li>TRUE</li><li>TRUE</li></ol>\n"
      ],
      "text/latex": [
       "\\begin{enumerate*}\n",
       "\\item FALSE\n",
       "\\item FALSE\n",
       "\\item FALSE\n",
       "\\item FALSE\n",
       "\\item FALSE\n",
       "\\item TRUE\n",
       "\\item TRUE\n",
       "\\item TRUE\n",
       "\\end{enumerate*}\n"
      ],
      "text/markdown": [
       "1. FALSE\n",
       "2. FALSE\n",
       "3. FALSE\n",
       "4. FALSE\n",
       "5. FALSE\n",
       "6. TRUE\n",
       "7. TRUE\n",
       "8. TRUE\n",
       "\n",
       "\n"
      ],
      "text/plain": [
       "[1] FALSE FALSE FALSE FALSE FALSE  TRUE  TRUE  TRUE"
      ]
     },
     "metadata": {},
     "output_type": "display_data"
    },
    {
     "data": {
      "text/html": [
       "<style>\n",
       ".list-inline {list-style: none; margin:0; padding: 0}\n",
       ".list-inline>li {display: inline-block}\n",
       ".list-inline>li:not(:last-child)::after {content: \"\\00b7\"; padding: 0 .5ex}\n",
       "</style>\n",
       "<ol class=list-inline><li>TRUE</li><li>TRUE</li><li>FALSE</li><li>FALSE</li><li>FALSE</li><li>FALSE</li><li>FALSE</li><li>FALSE</li></ol>\n"
      ],
      "text/latex": [
       "\\begin{enumerate*}\n",
       "\\item TRUE\n",
       "\\item TRUE\n",
       "\\item FALSE\n",
       "\\item FALSE\n",
       "\\item FALSE\n",
       "\\item FALSE\n",
       "\\item FALSE\n",
       "\\item FALSE\n",
       "\\end{enumerate*}\n"
      ],
      "text/markdown": [
       "1. TRUE\n",
       "2. TRUE\n",
       "3. FALSE\n",
       "4. FALSE\n",
       "5. FALSE\n",
       "6. FALSE\n",
       "7. FALSE\n",
       "8. FALSE\n",
       "\n",
       "\n"
      ],
      "text/plain": [
       "[1]  TRUE  TRUE FALSE FALSE FALSE FALSE FALSE FALSE"
      ]
     },
     "metadata": {},
     "output_type": "display_data"
    }
   ],
   "source": [
    "# your code here\n",
    "a>10\n",
    "a <=4\n"
   ]
  },
  {
   "cell_type": "markdown",
   "metadata": {
    "deletable": false,
    "editable": false,
    "nbgrader": {
     "cell_type": "markdown",
     "checksum": "bc0e00526c44f6f3dfe360a253d389c1",
     "grade": false,
     "grade_id": "cell-0717f5cbae296e02",
     "locked": true,
     "schema_version": 3,
     "solution": false,
     "task": false
    }
   },
   "source": [
    "Now let's look at more complicated logical statements. Note that ${\\tt \\&}$ represents \"and\", and ${\\tt |}$ represents \"or\" in R. \n",
    "\n",
    "#### Write code that prints ${\\tt TRUE}$ for values of $a$ greater than 6 and less than or equal to 10, and ${\\tt FALSE}$ otherwise. Then, write code that prints ${\\tt TRUE}$ for values of $a$  less than or equal to 4 or greater or equal to 12, and ${\\tt FALSE}$ otherwise."
   ]
  },
  {
   "cell_type": "code",
   "execution_count": 48,
   "metadata": {
    "deletable": false,
    "nbgrader": {
     "cell_type": "code",
     "checksum": "99f2b38247101961f90488f5475d9b33",
     "grade": true,
     "grade_id": "cell-d201b4f9c6c2e47c",
     "locked": false,
     "points": 0,
     "schema_version": 3,
     "solution": true,
     "task": false
    }
   },
   "outputs": [
    {
     "data": {
      "text/html": [
       "<style>\n",
       ".list-inline {list-style: none; margin:0; padding: 0}\n",
       ".list-inline>li {display: inline-block}\n",
       ".list-inline>li:not(:last-child)::after {content: \"\\00b7\"; padding: 0 .5ex}\n",
       "</style>\n",
       "<ol class=list-inline><li>FALSE</li><li>FALSE</li><li>FALSE</li><li>FALSE</li><li>TRUE</li><li>FALSE</li><li>FALSE</li><li>FALSE</li></ol>\n"
      ],
      "text/latex": [
       "\\begin{enumerate*}\n",
       "\\item FALSE\n",
       "\\item FALSE\n",
       "\\item FALSE\n",
       "\\item FALSE\n",
       "\\item TRUE\n",
       "\\item FALSE\n",
       "\\item FALSE\n",
       "\\item FALSE\n",
       "\\end{enumerate*}\n"
      ],
      "text/markdown": [
       "1. FALSE\n",
       "2. FALSE\n",
       "3. FALSE\n",
       "4. FALSE\n",
       "5. TRUE\n",
       "6. FALSE\n",
       "7. FALSE\n",
       "8. FALSE\n",
       "\n",
       "\n"
      ],
      "text/plain": [
       "[1] FALSE FALSE FALSE FALSE  TRUE FALSE FALSE FALSE"
      ]
     },
     "metadata": {},
     "output_type": "display_data"
    },
    {
     "data": {
      "text/html": [
       "<style>\n",
       ".list-inline {list-style: none; margin:0; padding: 0}\n",
       ".list-inline>li {display: inline-block}\n",
       ".list-inline>li:not(:last-child)::after {content: \"\\00b7\"; padding: 0 .5ex}\n",
       "</style>\n",
       "<ol class=list-inline><li>FALSE</li><li>FALSE</li><li>TRUE</li><li>TRUE</li><li>TRUE</li><li>TRUE</li><li>TRUE</li><li>TRUE</li></ol>\n"
      ],
      "text/latex": [
       "\\begin{enumerate*}\n",
       "\\item FALSE\n",
       "\\item FALSE\n",
       "\\item TRUE\n",
       "\\item TRUE\n",
       "\\item TRUE\n",
       "\\item TRUE\n",
       "\\item TRUE\n",
       "\\item TRUE\n",
       "\\end{enumerate*}\n"
      ],
      "text/markdown": [
       "1. FALSE\n",
       "2. FALSE\n",
       "3. TRUE\n",
       "4. TRUE\n",
       "5. TRUE\n",
       "6. TRUE\n",
       "7. TRUE\n",
       "8. TRUE\n",
       "\n",
       "\n"
      ],
      "text/plain": [
       "[1] FALSE FALSE  TRUE  TRUE  TRUE  TRUE  TRUE  TRUE"
      ]
     },
     "metadata": {},
     "output_type": "display_data"
    }
   ],
   "source": [
    "# your code here\n",
    "a>6 & a ==10\n",
    "a >4 | a == 12"
   ]
  },
  {
   "cell_type": "markdown",
   "metadata": {
    "deletable": false,
    "editable": false,
    "nbgrader": {
     "cell_type": "markdown",
     "checksum": "86245824b134c3991dfb9acc9afc56d7",
     "grade": false,
     "grade_id": "cell-e00cd77cdad99b3b",
     "locked": true,
     "schema_version": 3,
     "solution": false,
     "task": false
    }
   },
   "source": [
    "The real power of logical indexing comes when we take these vectors of logicals and put them in the index of a vector. The first line below tells R to print all elements of `a` such that `a < 6`.\n",
    "\n",
    "#### Write code to print elements of `a` equal to 10. Then, print elements of `a` less than six or equal to 10."
   ]
  },
  {
   "cell_type": "code",
   "execution_count": 49,
   "metadata": {
    "deletable": false,
    "nbgrader": {
     "cell_type": "code",
     "checksum": "3109a00c69cd0e717914ddf9c043996a",
     "grade": true,
     "grade_id": "cell-ac0010499195bcfa",
     "locked": false,
     "points": 0,
     "schema_version": 3,
     "solution": true,
     "task": false
    }
   },
   "outputs": [
    {
     "data": {
      "text/html": [
       "10"
      ],
      "text/latex": [
       "10"
      ],
      "text/markdown": [
       "10"
      ],
      "text/plain": [
       "[1] 10"
      ]
     },
     "metadata": {},
     "output_type": "display_data"
    }
   ],
   "source": [
    "# your code here\n",
    "a [a>6 & a ==10]"
   ]
  },
  {
   "cell_type": "markdown",
   "metadata": {
    "deletable": false,
    "editable": false,
    "nbgrader": {
     "cell_type": "markdown",
     "checksum": "d30da62b4cb8cb4d436ee587839895d1",
     "grade": false,
     "grade_id": "cell-6629e8e56c350283",
     "locked": true,
     "schema_version": 3,
     "solution": false,
     "task": false
    }
   },
   "source": [
    "## Part III: Functions, Loops and Beyond!\n",
    "\n",
    "As we've seen, R has many built in functions; but, you can write your own, too! Below is the syntax.\n",
    "\n",
    "#### Write a function that concatenates two vectors."
   ]
  },
  {
   "cell_type": "code",
   "execution_count": 62,
   "metadata": {
    "deletable": false,
    "nbgrader": {
     "cell_type": "code",
     "checksum": "4180d8fc52225f6de31a5288ca66dfff",
     "grade": true,
     "grade_id": "cell-f0099c15888e7efb",
     "locked": false,
     "points": 0,
     "schema_version": 3,
     "solution": true,
     "task": false
    }
   },
   "outputs": [
    {
     "data": {
      "text/html": [
       "'input is: 3'"
      ],
      "text/latex": [
       "'input is: 3'"
      ],
      "text/markdown": [
       "'input is: 3'"
      ],
      "text/plain": [
       "[1] \"input is: 3\""
      ]
     },
     "metadata": {},
     "output_type": "display_data"
    }
   ],
   "source": [
    "y = function(input){\n",
    "    #stuff\n",
    "    return(output)\n",
    "}\n",
    "\n",
    "# your code here\n",
    "my_fn = function(inp) {\n",
    "    return (paste(    \"input is:\", inp))\n",
    "}\n",
    "\n",
    "my_fn(\"3\") "
   ]
  },
  {
   "cell_type": "markdown",
   "metadata": {
    "deletable": false,
    "editable": false,
    "nbgrader": {
     "cell_type": "markdown",
     "checksum": "cafae1af6928b631ac82c59f27d757da",
     "grade": false,
     "grade_id": "cell-8f25eb7bd9eb75dd",
     "locked": true,
     "schema_version": 3,
     "solution": false,
     "task": false
    }
   },
   "source": [
    "The function f1 below produces results like 'T' 'H' 'T' 'T'. We can think of `f1` a function that flips a coin four times. \n",
    "\n",
    "#### Write a function `f2` that can be interpreted as rolling a fair die eight times. How could you modify the code to roll a biased die?\n",
    "\n",
    "#### Notice that every time you run these function, the results are different! Uncomment the line `set.seed(99)` and notice what happens."
   ]
  },
  {
   "cell_type": "code",
   "execution_count": 63,
   "metadata": {
    "deletable": false,
    "editable": false,
    "nbgrader": {
     "cell_type": "code",
     "checksum": "05d8365e9c0e47c8cf5f78d3950e4a58",
     "grade": false,
     "grade_id": "cell-3bbf251288e4462a",
     "locked": true,
     "schema_version": 3,
     "solution": false,
     "task": false
    }
   },
   "outputs": [
    {
     "data": {
      "text/html": [
       "<style>\n",
       ".list-inline {list-style: none; margin:0; padding: 0}\n",
       ".list-inline>li {display: inline-block}\n",
       ".list-inline>li:not(:last-child)::after {content: \"\\00b7\"; padding: 0 .5ex}\n",
       "</style>\n",
       "<ol class=list-inline><li>'T'</li><li>'H'</li><li>'H'</li><li>'T'</li></ol>\n"
      ],
      "text/latex": [
       "\\begin{enumerate*}\n",
       "\\item 'T'\n",
       "\\item 'H'\n",
       "\\item 'H'\n",
       "\\item 'T'\n",
       "\\end{enumerate*}\n"
      ],
      "text/markdown": [
       "1. 'T'\n",
       "2. 'H'\n",
       "3. 'H'\n",
       "4. 'T'\n",
       "\n",
       "\n"
      ],
      "text/plain": [
       "[1] \"T\" \"H\" \"H\" \"T\""
      ]
     },
     "metadata": {},
     "output_type": "display_data"
    },
    {
     "data": {
      "text/html": [
       "<style>\n",
       ".list-inline {list-style: none; margin:0; padding: 0}\n",
       ".list-inline>li {display: inline-block}\n",
       ".list-inline>li:not(:last-child)::after {content: \"\\00b7\"; padding: 0 .5ex}\n",
       "</style>\n",
       "<ol class=list-inline><li>6</li><li>5</li><li>2</li><li>6</li><li>2</li><li>1</li><li>3</li><li>2</li></ol>\n"
      ],
      "text/latex": [
       "\\begin{enumerate*}\n",
       "\\item 6\n",
       "\\item 5\n",
       "\\item 2\n",
       "\\item 6\n",
       "\\item 2\n",
       "\\item 1\n",
       "\\item 3\n",
       "\\item 2\n",
       "\\end{enumerate*}\n"
      ],
      "text/markdown": [
       "1. 6\n",
       "2. 5\n",
       "3. 2\n",
       "4. 6\n",
       "5. 2\n",
       "6. 1\n",
       "7. 3\n",
       "8. 2\n",
       "\n",
       "\n"
      ],
      "text/plain": [
       "[1] 6 5 2 6 2 1 3 2"
      ]
     },
     "metadata": {},
     "output_type": "display_data"
    }
   ],
   "source": [
    "#set.seed(99)\n",
    "f1 = function(){\n",
    "    s = sample(c(\"H\", \"T\"), size = 4, replace = TRUE)\n",
    "    return(s)\n",
    "}\n",
    "\n",
    "f1()\n",
    "\n",
    "f2 = function(){\n",
    "    s = sample(c(1,2,3,4,5,6), size = 8, replace = TRUE)\n",
    "    return(s)\n",
    "}\n",
    "\n",
    "f2()"
   ]
  },
  {
   "cell_type": "markdown",
   "metadata": {
    "deletable": false,
    "editable": false,
    "nbgrader": {
     "cell_type": "markdown",
     "checksum": "2feda058852116e61fed11c62d27c399",
     "grade": false,
     "grade_id": "cell-4c6457c1505c7089",
     "locked": true,
     "schema_version": 3,
     "solution": false,
     "task": false
    }
   },
   "source": [
    "In R, just like in C++, Matlab, Python, etc., you can write loops to repeat a sequence of instructions until a certain condition is met.  \n",
    "\n",
    "#### Below is the syntax for a loop. Inside the loop, write a line of code that populates the matrix `M` with the numbers 1 through 20."
   ]
  },
  {
   "cell_type": "code",
   "execution_count": 105,
   "metadata": {
    "deletable": false,
    "nbgrader": {
     "cell_type": "code",
     "checksum": "79b3c6a9699a5863bff68d7e25844294",
     "grade": true,
     "grade_id": "cell-86173bd48cc9dffe",
     "locked": false,
     "points": 0,
     "schema_version": 3,
     "solution": true,
     "task": false
    }
   },
   "outputs": [
    {
     "data": {
      "text/html": [
       "<table>\n",
       "<caption>A matrix: 10 × 2 of type int</caption>\n",
       "<tbody>\n",
       "\t<tr><td> 1</td><td>11</td></tr>\n",
       "\t<tr><td> 2</td><td>12</td></tr>\n",
       "\t<tr><td> 3</td><td>13</td></tr>\n",
       "\t<tr><td> 4</td><td>14</td></tr>\n",
       "\t<tr><td> 5</td><td>15</td></tr>\n",
       "\t<tr><td> 6</td><td>16</td></tr>\n",
       "\t<tr><td> 7</td><td>17</td></tr>\n",
       "\t<tr><td> 8</td><td>18</td></tr>\n",
       "\t<tr><td> 9</td><td>19</td></tr>\n",
       "\t<tr><td>10</td><td>20</td></tr>\n",
       "</tbody>\n",
       "</table>\n"
      ],
      "text/latex": [
       "A matrix: 10 × 2 of type int\n",
       "\\begin{tabular}{ll}\n",
       "\t  1 & 11\\\\\n",
       "\t  2 & 12\\\\\n",
       "\t  3 & 13\\\\\n",
       "\t  4 & 14\\\\\n",
       "\t  5 & 15\\\\\n",
       "\t  6 & 16\\\\\n",
       "\t  7 & 17\\\\\n",
       "\t  8 & 18\\\\\n",
       "\t  9 & 19\\\\\n",
       "\t 10 & 20\\\\\n",
       "\\end{tabular}\n"
      ],
      "text/markdown": [
       "\n",
       "A matrix: 10 × 2 of type int\n",
       "\n",
       "|  1 | 11 |\n",
       "|  2 | 12 |\n",
       "|  3 | 13 |\n",
       "|  4 | 14 |\n",
       "|  5 | 15 |\n",
       "|  6 | 16 |\n",
       "|  7 | 17 |\n",
       "|  8 | 18 |\n",
       "|  9 | 19 |\n",
       "| 10 | 20 |\n",
       "\n"
      ],
      "text/plain": [
       "      [,1] [,2]\n",
       " [1,]  1   11  \n",
       " [2,]  2   12  \n",
       " [3,]  3   13  \n",
       " [4,]  4   14  \n",
       " [5,]  5   15  \n",
       " [6,]  6   16  \n",
       " [7,]  7   17  \n",
       " [8,]  8   18  \n",
       " [9,]  9   19  \n",
       "[10,] 10   20  "
      ]
     },
     "metadata": {},
     "output_type": "display_data"
    }
   ],
   "source": [
    "n = 20; \n",
    "M = matrix(NA, ncol = 2, nrow = 10); #check the help file so that you know what this does!\n",
    "\n",
    "for (i in 1:n){\n",
    "    # your code here\n",
    "    M[i] = i\n",
    "}\n",
    "M"
   ]
  },
  {
   "cell_type": "markdown",
   "metadata": {
    "deletable": false,
    "editable": false,
    "nbgrader": {
     "cell_type": "markdown",
     "checksum": "242344a20267a21c100101435d1e6699",
     "grade": false,
     "grade_id": "cell-b03ad0c060f0eac5",
     "locked": true,
     "schema_version": 3,
     "solution": false,
     "task": false
    }
   },
   "source": [
    "#### Now, write a loop to calculate the mean of each column of `M`."
   ]
  },
  {
   "cell_type": "code",
   "execution_count": 120,
   "metadata": {
    "deletable": false,
    "nbgrader": {
     "cell_type": "code",
     "checksum": "7dca6018344a9c8eaa3faf4ea4d971be",
     "grade": true,
     "grade_id": "cell-87b55cec8ec1ec0e",
     "locked": false,
     "points": 0,
     "schema_version": 3,
     "solution": true,
     "task": false
    }
   },
   "outputs": [
    {
     "name": "stdout",
     "output_type": "stream",
     "text": [
      "[1] 5.5\n",
      "[1] 15.5\n"
     ]
    },
    {
     "data": {
      "text/html": [
       "<table>\n",
       "<caption>A matrix: 2 × 1 of type lgl</caption>\n",
       "<tbody>\n",
       "\t<tr><td>NA</td></tr>\n",
       "\t<tr><td>NA</td></tr>\n",
       "</tbody>\n",
       "</table>\n"
      ],
      "text/latex": [
       "A matrix: 2 × 1 of type lgl\n",
       "\\begin{tabular}{l}\n",
       "\t NA\\\\\n",
       "\t NA\\\\\n",
       "\\end{tabular}\n"
      ],
      "text/markdown": [
       "\n",
       "A matrix: 2 × 1 of type lgl\n",
       "\n",
       "| NA |\n",
       "| NA |\n",
       "\n"
      ],
      "text/plain": [
       "     [,1]\n",
       "[1,] NA  \n",
       "[2,] NA  "
      ]
     },
     "metadata": {},
     "output_type": "display_data"
    },
    {
     "data": {
      "text/html": [
       "<style>\n",
       ".list-inline {list-style: none; margin:0; padding: 0}\n",
       ".list-inline>li {display: inline-block}\n",
       ".list-inline>li:not(:last-child)::after {content: \"\\00b7\"; padding: 0 .5ex}\n",
       "</style>\n",
       "<ol class=list-inline><li>5.5</li><li>15.5</li></ol>\n"
      ],
      "text/latex": [
       "\\begin{enumerate*}\n",
       "\\item 5.5\n",
       "\\item 15.5\n",
       "\\end{enumerate*}\n"
      ],
      "text/markdown": [
       "1. 5.5\n",
       "2. 15.5\n",
       "\n",
       "\n"
      ],
      "text/plain": [
       "[1]  5.5 15.5"
      ]
     },
     "metadata": {},
     "output_type": "display_data"
    }
   ],
   "source": [
    "m = matrix(NA, nrow = 2, ncol = 1)\n",
    "for (i in 1:2){\n",
    "    # your code here\n",
    "    print(mean(M[,i]))\n",
    "}\n",
    "m\n",
    "colMeans(M)"
   ]
  },
  {
   "cell_type": "markdown",
   "metadata": {
    "deletable": false,
    "editable": false,
    "nbgrader": {
     "cell_type": "markdown",
     "checksum": "8992eab41ca4f880904f92feef105edc",
     "grade": false,
     "grade_id": "cell-2c2f0ef6b7e1c1e2",
     "locked": true,
     "schema_version": 3,
     "solution": false,
     "task": false
    }
   },
   "source": [
    "### Here's an incredibly important lesson about R: many tasks that require loops in other languages (e.g., C++) *do not* require loops in R. \n",
    "\n",
    "#### As an example, use the function `colMeans()` to calculate the means of the columns of `M` without a loop. Store these means in a variable `M_means`. Then, look at the help file for `colMeans()` to see related functions."
   ]
  },
  {
   "cell_type": "code",
   "execution_count": 110,
   "metadata": {
    "deletable": false,
    "nbgrader": {
     "cell_type": "code",
     "checksum": "e853dbd547a9a764778813f08d790a75",
     "grade": false,
     "grade_id": "cell-00795123493d9486",
     "locked": false,
     "schema_version": 3,
     "solution": true,
     "task": false
    }
   },
   "outputs": [
    {
     "data": {
      "text/html": [
       "<style>\n",
       ".list-inline {list-style: none; margin:0; padding: 0}\n",
       ".list-inline>li {display: inline-block}\n",
       ".list-inline>li:not(:last-child)::after {content: \"\\00b7\"; padding: 0 .5ex}\n",
       "</style>\n",
       "<ol class=list-inline><li>5.5</li><li>15.5</li></ol>\n"
      ],
      "text/latex": [
       "\\begin{enumerate*}\n",
       "\\item 5.5\n",
       "\\item 15.5\n",
       "\\end{enumerate*}\n"
      ],
      "text/markdown": [
       "1. 5.5\n",
       "2. 15.5\n",
       "\n",
       "\n"
      ],
      "text/plain": [
       "[1]  5.5 15.5"
      ]
     },
     "metadata": {},
     "output_type": "display_data"
    }
   ],
   "source": [
    "# your code here\n",
    "M_means = colMeans(M)\n",
    "M_means"
   ]
  },
  {
   "cell_type": "code",
   "execution_count": 121,
   "metadata": {
    "deletable": false,
    "editable": false,
    "nbgrader": {
     "cell_type": "code",
     "checksum": "01cd507b51d20762c3b8bbd9a9e9fa3c",
     "grade": true,
     "grade_id": "cell-4f1e5d04b5750095",
     "locked": true,
     "points": 2,
     "schema_version": 3,
     "solution": false,
     "task": false
    }
   },
   "outputs": [],
   "source": [
    "# Test Cell"
   ]
  },
  {
   "cell_type": "markdown",
   "metadata": {
    "deletable": false,
    "editable": false,
    "nbgrader": {
     "cell_type": "markdown",
     "checksum": "ff651b78c0e5bd564b90eb844df1a65d",
     "grade": false,
     "grade_id": "cell-ad87e7ccf67a7182",
     "locked": true,
     "schema_version": 3,
     "solution": false,
     "task": false
    }
   },
   "source": [
    "Note that the family of functions that includes `colMeans()` does not include a function to calculate the standard deviation or variance of a column (or row). But we can still do this without loops, using the `apply()` function.\n",
    "\n",
    "**Below, the `apply()` function is set up to calculate the variance of each row of M. Modify the code to calculate the standard deviation of each column of M. Store your answer in `col_sd`.**"
   ]
  },
  {
   "cell_type": "code",
   "execution_count": 135,
   "metadata": {
    "deletable": false,
    "nbgrader": {
     "cell_type": "code",
     "checksum": "bc2ccb570f37b841de49d7605774b777",
     "grade": false,
     "grade_id": "cell-7e7671c441c5ff3e",
     "locked": false,
     "schema_version": 3,
     "solution": true,
     "task": false
    }
   },
   "outputs": [
    {
     "data": {
      "text/html": [
       "<table>\n",
       "<caption>A matrix: 10 × 2 of type int</caption>\n",
       "<tbody>\n",
       "\t<tr><td> 1</td><td>11</td></tr>\n",
       "\t<tr><td> 2</td><td>12</td></tr>\n",
       "\t<tr><td> 3</td><td>13</td></tr>\n",
       "\t<tr><td> 4</td><td>14</td></tr>\n",
       "\t<tr><td> 5</td><td>15</td></tr>\n",
       "\t<tr><td> 6</td><td>16</td></tr>\n",
       "\t<tr><td> 7</td><td>17</td></tr>\n",
       "\t<tr><td> 8</td><td>18</td></tr>\n",
       "\t<tr><td> 9</td><td>19</td></tr>\n",
       "\t<tr><td>10</td><td>20</td></tr>\n",
       "</tbody>\n",
       "</table>\n"
      ],
      "text/latex": [
       "A matrix: 10 × 2 of type int\n",
       "\\begin{tabular}{ll}\n",
       "\t  1 & 11\\\\\n",
       "\t  2 & 12\\\\\n",
       "\t  3 & 13\\\\\n",
       "\t  4 & 14\\\\\n",
       "\t  5 & 15\\\\\n",
       "\t  6 & 16\\\\\n",
       "\t  7 & 17\\\\\n",
       "\t  8 & 18\\\\\n",
       "\t  9 & 19\\\\\n",
       "\t 10 & 20\\\\\n",
       "\\end{tabular}\n"
      ],
      "text/markdown": [
       "\n",
       "A matrix: 10 × 2 of type int\n",
       "\n",
       "|  1 | 11 |\n",
       "|  2 | 12 |\n",
       "|  3 | 13 |\n",
       "|  4 | 14 |\n",
       "|  5 | 15 |\n",
       "|  6 | 16 |\n",
       "|  7 | 17 |\n",
       "|  8 | 18 |\n",
       "|  9 | 19 |\n",
       "| 10 | 20 |\n",
       "\n"
      ],
      "text/plain": [
       "      [,1] [,2]\n",
       " [1,]  1   11  \n",
       " [2,]  2   12  \n",
       " [3,]  3   13  \n",
       " [4,]  4   14  \n",
       " [5,]  5   15  \n",
       " [6,]  6   16  \n",
       " [7,]  7   17  \n",
       " [8,]  8   18  \n",
       " [9,]  9   19  \n",
       "[10,] 10   20  "
      ]
     },
     "metadata": {},
     "output_type": "display_data"
    },
    {
     "data": {
      "text/html": [
       "<style>\n",
       ".list-inline {list-style: none; margin:0; padding: 0}\n",
       ".list-inline>li {display: inline-block}\n",
       ".list-inline>li:not(:last-child)::after {content: \"\\00b7\"; padding: 0 .5ex}\n",
       "</style>\n",
       "<ol class=list-inline><li>50</li><li>50</li><li>50</li><li>50</li><li>50</li><li>50</li><li>50</li><li>50</li><li>50</li><li>50</li></ol>\n"
      ],
      "text/latex": [
       "\\begin{enumerate*}\n",
       "\\item 50\n",
       "\\item 50\n",
       "\\item 50\n",
       "\\item 50\n",
       "\\item 50\n",
       "\\item 50\n",
       "\\item 50\n",
       "\\item 50\n",
       "\\item 50\n",
       "\\item 50\n",
       "\\end{enumerate*}\n"
      ],
      "text/markdown": [
       "1. 50\n",
       "2. 50\n",
       "3. 50\n",
       "4. 50\n",
       "5. 50\n",
       "6. 50\n",
       "7. 50\n",
       "8. 50\n",
       "9. 50\n",
       "10. 50\n",
       "\n",
       "\n"
      ],
      "text/plain": [
       " [1] 50 50 50 50 50 50 50 50 50 50"
      ]
     },
     "metadata": {},
     "output_type": "display_data"
    },
    {
     "data": {
      "text/html": [
       "<style>\n",
       ".list-inline {list-style: none; margin:0; padding: 0}\n",
       ".list-inline>li {display: inline-block}\n",
       ".list-inline>li:not(:last-child)::after {content: \"\\00b7\"; padding: 0 .5ex}\n",
       "</style>\n",
       "<ol class=list-inline><li>9.16666666666667</li><li>9.16666666666667</li></ol>\n"
      ],
      "text/latex": [
       "\\begin{enumerate*}\n",
       "\\item 9.16666666666667\n",
       "\\item 9.16666666666667\n",
       "\\end{enumerate*}\n"
      ],
      "text/markdown": [
       "1. 9.16666666666667\n",
       "2. 9.16666666666667\n",
       "\n",
       "\n"
      ],
      "text/plain": [
       "[1] 9.166667 9.166667"
      ]
     },
     "metadata": {},
     "output_type": "display_data"
    }
   ],
   "source": [
    "M\n",
    "apply(M, 1, var)\n",
    "# your code here\n",
    "col_sd = apply(M, 2, var)\n",
    "col_sd"
   ]
  },
  {
   "cell_type": "code",
   "execution_count": null,
   "metadata": {
    "deletable": false,
    "editable": false,
    "nbgrader": {
     "cell_type": "code",
     "checksum": "934d550c05161dee904e55dd48404067",
     "grade": true,
     "grade_id": "cell-271117207f36b4d5",
     "locked": true,
     "points": 2,
     "schema_version": 3,
     "solution": false,
     "task": false
    }
   },
   "outputs": [],
   "source": [
    "# Test Cell"
   ]
  },
  {
   "cell_type": "markdown",
   "metadata": {
    "deletable": false,
    "editable": false,
    "nbgrader": {
     "cell_type": "markdown",
     "checksum": "661a82100ecf83ec8d7289142a4641dd",
     "grade": false,
     "grade_id": "cell-dc81723526cc4fc7",
     "locked": true,
     "schema_version": 3,
     "solution": false,
     "task": false
    }
   },
   "source": [
    "Recall above that we wrote a function `f1` that flips a coin four times. As odd as it sounds, it will become desirable for us to repeat many times (say, $m$ times) the process of flipping a coin four times. The result might be a matrix with $m$ rows and four columns. \n",
    "\n",
    "#### Write a loop to repeat the process of \"flipping a coin four times\" 10,000 times. The result should be a 10,000 by 4 matrix."
   ]
  },
  {
   "cell_type": "code",
   "execution_count": 160,
   "metadata": {
    "deletable": false,
    "nbgrader": {
     "cell_type": "code",
     "checksum": "d5a3d87b17e2df0a827c7da1985448e3",
     "grade": true,
     "grade_id": "cell-8ed61fc3ca856f3d",
     "locked": false,
     "points": 0,
     "schema_version": 3,
     "solution": true,
     "task": false
    }
   },
   "outputs": [],
   "source": [
    "# your code here\n",
    "nrow = 10000\n",
    "M  = matrix(NA, nrow = nrow, ncol = 4)\n",
    "for (i in 1:nrow) {\n",
    "    M[i,] = f1()\n",
    "}"
   ]
  },
  {
   "cell_type": "markdown",
   "metadata": {
    "deletable": false,
    "editable": false,
    "nbgrader": {
     "cell_type": "markdown",
     "checksum": "744e6cc01ea5985742734fdbdf6ac080",
     "grade": false,
     "grade_id": "cell-7978152942226a94",
     "locked": true,
     "schema_version": 3,
     "solution": false,
     "task": false
    }
   },
   "source": [
    "But, as master R programmers, we avoid loops whenever possible. One reason why we do this is because loops are slower than the fancy R alternatives. As an alternative to the loop above, let's use the `replicate()` function to repeat the coin flipping process.\n",
    "\n",
    "#### Using the help function as your guide, use `replicate()` to  repeat the process of \"flipping a coin four times\" 10,000 times."
   ]
  },
  {
   "cell_type": "code",
   "execution_count": 161,
   "metadata": {
    "deletable": false,
    "nbgrader": {
     "cell_type": "code",
     "checksum": "f0ebcd3ea3072458d8ff56d259d14f93",
     "grade": true,
     "grade_id": "cell-f2bab03be3855c33",
     "locked": false,
     "points": 0,
     "schema_version": 3,
     "solution": true,
     "task": false
    }
   },
   "outputs": [],
   "source": [
    "# your code here\n",
    "M = replicate(nrow, f1())"
   ]
  },
  {
   "cell_type": "markdown",
   "metadata": {
    "deletable": false,
    "editable": false,
    "nbgrader": {
     "cell_type": "markdown",
     "checksum": "0cc597edc76d4ec44eb8261a82bb0d60",
     "grade": false,
     "grade_id": "cell-e767f634bceed89d",
     "locked": true,
     "schema_version": 3,
     "solution": false,
     "task": false
    }
   },
   "source": [
    "## Part IV: Working with Data Frames\n",
    "\n",
    "Datasets in R are stored as *data frames*. Data frames are just tables of data (vectors of data of equal length). It will be important for future assignments (and in life!) for you to be able to work with data frames.\n",
    "\n",
    "#### Take the vectors below and store them in a data frame, called `mydataframe`, using the function `data.frame()`."
   ]
  },
  {
   "cell_type": "code",
   "execution_count": 163,
   "metadata": {
    "deletable": false,
    "nbgrader": {
     "cell_type": "code",
     "checksum": "f8200cbbe272499896410902d1aa8757",
     "grade": false,
     "grade_id": "cell-2e83c5c5da5b8762",
     "locked": false,
     "schema_version": 3,
     "solution": true,
     "task": false
    }
   },
   "outputs": [
    {
     "data": {
      "text/html": [
       "<table>\n",
       "<caption>A data.frame: 4 × 3</caption>\n",
       "<thead>\n",
       "\t<tr><th scope=col>d</th><th scope=col>e</th><th scope=col>f</th></tr>\n",
       "\t<tr><th scope=col>&lt;dbl&gt;</th><th scope=col>&lt;fct&gt;</th><th scope=col>&lt;lgl&gt;</th></tr>\n",
       "</thead>\n",
       "<tbody>\n",
       "\t<tr><td>1</td><td>red  </td><td> TRUE</td></tr>\n",
       "\t<tr><td>2</td><td>white</td><td> TRUE</td></tr>\n",
       "\t<tr><td>3</td><td>blue </td><td> TRUE</td></tr>\n",
       "\t<tr><td>4</td><td>NA   </td><td>FALSE</td></tr>\n",
       "</tbody>\n",
       "</table>\n"
      ],
      "text/latex": [
       "A data.frame: 4 × 3\n",
       "\\begin{tabular}{lll}\n",
       " d & e & f\\\\\n",
       " <dbl> & <fct> & <lgl>\\\\\n",
       "\\hline\n",
       "\t 1 & red   &  TRUE\\\\\n",
       "\t 2 & white &  TRUE\\\\\n",
       "\t 3 & blue  &  TRUE\\\\\n",
       "\t 4 & NA    & FALSE\\\\\n",
       "\\end{tabular}\n"
      ],
      "text/markdown": [
       "\n",
       "A data.frame: 4 × 3\n",
       "\n",
       "| d &lt;dbl&gt; | e &lt;fct&gt; | f &lt;lgl&gt; |\n",
       "|---|---|---|\n",
       "| 1 | red   |  TRUE |\n",
       "| 2 | white |  TRUE |\n",
       "| 3 | blue  |  TRUE |\n",
       "| 4 | NA    | FALSE |\n",
       "\n"
      ],
      "text/plain": [
       "  d e     f    \n",
       "1 1 red    TRUE\n",
       "2 2 white  TRUE\n",
       "3 3 blue   TRUE\n",
       "4 4 NA    FALSE"
      ]
     },
     "metadata": {},
     "output_type": "display_data"
    }
   ],
   "source": [
    "d = c(1, 2, 3, 4)\n",
    "e = c(\"red\", \"white\", \"blue\", NA)\n",
    "f = c(TRUE, TRUE, TRUE, FALSE)\n",
    "\n",
    "# your code here\n",
    "mydataframe = data.frame(d, e ,f)\n",
    "mydataframe"
   ]
  },
  {
   "cell_type": "code",
   "execution_count": null,
   "metadata": {
    "deletable": false,
    "editable": false,
    "nbgrader": {
     "cell_type": "code",
     "checksum": "3dd8cd4a037baa28f8f019347c0a770c",
     "grade": true,
     "grade_id": "cell-e80d3dbdead4ab90",
     "locked": true,
     "points": 1,
     "schema_version": 3,
     "solution": false,
     "task": false
    }
   },
   "outputs": [],
   "source": []
  },
  {
   "cell_type": "markdown",
   "metadata": {
    "deletable": false,
    "editable": false,
    "nbgrader": {
     "cell_type": "markdown",
     "checksum": "787d1209862c3c625e0ac6c3f8d554e4",
     "grade": false,
     "grade_id": "cell-6fc6446b84d381c6",
     "locked": true,
     "schema_version": 3,
     "solution": false,
     "task": false
    }
   },
   "source": [
    "Note that the names of the columns aren't informative (they are just the names of the vectors used to create that dataframe). We can change that..."
   ]
  },
  {
   "cell_type": "code",
   "execution_count": 164,
   "metadata": {
    "deletable": false,
    "editable": false,
    "nbgrader": {
     "cell_type": "code",
     "checksum": "18d4891d2fe48b45988ac921fcf8803d",
     "grade": false,
     "grade_id": "cell-7d65cf34841876f2",
     "locked": true,
     "schema_version": 3,
     "solution": false,
     "task": false
    }
   },
   "outputs": [
    {
     "data": {
      "text/html": [
       "<table>\n",
       "<caption>A data.frame: 4 × 3</caption>\n",
       "<thead>\n",
       "\t<tr><th scope=col>ID</th><th scope=col>Color</th><th scope=col>Passed</th></tr>\n",
       "\t<tr><th scope=col>&lt;dbl&gt;</th><th scope=col>&lt;fct&gt;</th><th scope=col>&lt;lgl&gt;</th></tr>\n",
       "</thead>\n",
       "<tbody>\n",
       "\t<tr><td>1</td><td>red  </td><td> TRUE</td></tr>\n",
       "\t<tr><td>2</td><td>white</td><td> TRUE</td></tr>\n",
       "\t<tr><td>3</td><td>blue </td><td> TRUE</td></tr>\n",
       "\t<tr><td>4</td><td>NA   </td><td>FALSE</td></tr>\n",
       "</tbody>\n",
       "</table>\n"
      ],
      "text/latex": [
       "A data.frame: 4 × 3\n",
       "\\begin{tabular}{lll}\n",
       " ID & Color & Passed\\\\\n",
       " <dbl> & <fct> & <lgl>\\\\\n",
       "\\hline\n",
       "\t 1 & red   &  TRUE\\\\\n",
       "\t 2 & white &  TRUE\\\\\n",
       "\t 3 & blue  &  TRUE\\\\\n",
       "\t 4 & NA    & FALSE\\\\\n",
       "\\end{tabular}\n"
      ],
      "text/markdown": [
       "\n",
       "A data.frame: 4 × 3\n",
       "\n",
       "| ID &lt;dbl&gt; | Color &lt;fct&gt; | Passed &lt;lgl&gt; |\n",
       "|---|---|---|\n",
       "| 1 | red   |  TRUE |\n",
       "| 2 | white |  TRUE |\n",
       "| 3 | blue  |  TRUE |\n",
       "| 4 | NA    | FALSE |\n",
       "\n"
      ],
      "text/plain": [
       "  ID Color Passed\n",
       "1 1  red    TRUE \n",
       "2 2  white  TRUE \n",
       "3 3  blue   TRUE \n",
       "4 4  NA    FALSE "
      ]
     },
     "metadata": {},
     "output_type": "display_data"
    },
    {
     "data": {
      "text/html": [
       "<table>\n",
       "<caption>A data.frame: 4 × 3</caption>\n",
       "<thead>\n",
       "\t<tr><th scope=col>ID</th><th scope=col>Color</th><th scope=col>Passed</th></tr>\n",
       "\t<tr><th scope=col>&lt;dbl&gt;</th><th scope=col>&lt;fct&gt;</th><th scope=col>&lt;lgl&gt;</th></tr>\n",
       "</thead>\n",
       "<tbody>\n",
       "\t<tr><td>1</td><td>red  </td><td> TRUE</td></tr>\n",
       "\t<tr><td>2</td><td>white</td><td> TRUE</td></tr>\n",
       "\t<tr><td>3</td><td>blue </td><td> TRUE</td></tr>\n",
       "\t<tr><td>4</td><td>NA   </td><td>FALSE</td></tr>\n",
       "</tbody>\n",
       "</table>\n"
      ],
      "text/latex": [
       "A data.frame: 4 × 3\n",
       "\\begin{tabular}{lll}\n",
       " ID & Color & Passed\\\\\n",
       " <dbl> & <fct> & <lgl>\\\\\n",
       "\\hline\n",
       "\t 1 & red   &  TRUE\\\\\n",
       "\t 2 & white &  TRUE\\\\\n",
       "\t 3 & blue  &  TRUE\\\\\n",
       "\t 4 & NA    & FALSE\\\\\n",
       "\\end{tabular}\n"
      ],
      "text/markdown": [
       "\n",
       "A data.frame: 4 × 3\n",
       "\n",
       "| ID &lt;dbl&gt; | Color &lt;fct&gt; | Passed &lt;lgl&gt; |\n",
       "|---|---|---|\n",
       "| 1 | red   |  TRUE |\n",
       "| 2 | white |  TRUE |\n",
       "| 3 | blue  |  TRUE |\n",
       "| 4 | NA    | FALSE |\n",
       "\n"
      ],
      "text/plain": [
       "  ID Color Passed\n",
       "1 1  red    TRUE \n",
       "2 2  white  TRUE \n",
       "3 3  blue   TRUE \n",
       "4 4  NA    FALSE "
      ]
     },
     "metadata": {},
     "output_type": "display_data"
    }
   ],
   "source": [
    "#rename columns of data frame\n",
    "names(mydataframe) = c(\"ID\", \"Color\", \"Passed\")\n",
    "mydataframe\n",
    "\n",
    "#name columns while creating data frame\n",
    "dataframe2 = data.frame(ID=d, Color=e, Passed=f)\n",
    "dataframe2"
   ]
  },
  {
   "cell_type": "markdown",
   "metadata": {
    "deletable": false,
    "editable": false,
    "nbgrader": {
     "cell_type": "markdown",
     "checksum": "950a22158ce75dbd68fac684c8724086",
     "grade": false,
     "grade_id": "cell-215c5432837ea2b2",
     "locked": true,
     "schema_version": 3,
     "solution": false,
     "task": false
    }
   },
   "source": [
    "There are a few ways that you can access elements of a dataframe. \n",
    "\n",
    "1. You can access columns of a dataframe by typing `mydataframe$NameOfColumn` or by typing `mydataframe[ ,i]` (the latter will print the $i^{th}$ column).\n",
    "\n",
    "2. To access the $i^{th}$ row, type `mydataframe[i, ]`.\n",
    "\n",
    "3. To access the $[i,j]$ element, type `mydataframe[i,j]`. Note that data frames are indexed just like matrices: [row, column].\n",
    "\n",
    "**Print the `Color` column of the dataframe from above in two different ways. Print the second row. Print the element containing \"white\".**"
   ]
  },
  {
   "cell_type": "code",
   "execution_count": 168,
   "metadata": {
    "deletable": false,
    "nbgrader": {
     "cell_type": "code",
     "checksum": "57e283f481d9a053cd1d0e3c0391f003",
     "grade": true,
     "grade_id": "cell-627500e27ac3576e",
     "locked": false,
     "points": 0,
     "schema_version": 3,
     "solution": true,
     "task": false
    }
   },
   "outputs": [
    {
     "data": {
      "text/html": [
       "<style>\n",
       ".list-inline {list-style: none; margin:0; padding: 0}\n",
       ".list-inline>li {display: inline-block}\n",
       ".list-inline>li:not(:last-child)::after {content: \"\\00b7\"; padding: 0 .5ex}\n",
       "</style>\n",
       "<ol class=list-inline><li>red</li><li>white</li><li>blue</li><li>&lt;NA&gt;</li></ol>\n",
       "\n",
       "<details>\n",
       "\t<summary style=display:list-item;cursor:pointer>\n",
       "\t\t<strong>Levels</strong>:\n",
       "\t</summary>\n",
       "\t<style>\n",
       "\t.list-inline {list-style: none; margin:0; padding: 0}\n",
       "\t.list-inline>li {display: inline-block}\n",
       "\t.list-inline>li:not(:last-child)::after {content: \"\\00b7\"; padding: 0 .5ex}\n",
       "\t</style>\n",
       "\t<ol class=list-inline><li>'blue'</li><li>'red'</li><li>'white'</li></ol>\n",
       "</details>"
      ],
      "text/latex": [
       "\\begin{enumerate*}\n",
       "\\item red\n",
       "\\item white\n",
       "\\item blue\n",
       "\\item <NA>\n",
       "\\end{enumerate*}\n",
       "\n",
       "\\emph{Levels}: \\begin{enumerate*}\n",
       "\\item 'blue'\n",
       "\\item 'red'\n",
       "\\item 'white'\n",
       "\\end{enumerate*}\n"
      ],
      "text/markdown": [
       "1. red\n",
       "2. white\n",
       "3. blue\n",
       "4. &lt;NA&gt;\n",
       "\n",
       "\n",
       "\n",
       "**Levels**: 1. 'blue'\n",
       "2. 'red'\n",
       "3. 'white'\n",
       "\n",
       "\n"
      ],
      "text/plain": [
       "[1] red   white blue  <NA> \n",
       "Levels: blue red white"
      ]
     },
     "metadata": {},
     "output_type": "display_data"
    }
   ],
   "source": [
    "# your code here\n",
    "mydataframe[,2]\n"
   ]
  },
  {
   "cell_type": "markdown",
   "metadata": {
    "deletable": false,
    "editable": false,
    "nbgrader": {
     "cell_type": "markdown",
     "checksum": "7259194cf21271790d7f600601039e96",
     "grade": false,
     "grade_id": "cell-321dcf6f17a78835",
     "locked": true,
     "schema_version": 3,
     "solution": false,
     "task": false
    }
   },
   "source": [
    "You can save a dataframe using the function `write.table()`. \n",
    "\n",
    "#### Below, I give code to save `mydataframe` in a location on my computer. Modify the code to save it somewhere on your computer. I would take this time to think about being organized with your files for this course!\n",
    "\n",
    "Notice the `sep` argument is set to ` \"\\t\"`. This saves the file as a tab separated file. Look at the help file to see other options here."
   ]
  },
  {
   "cell_type": "code",
   "execution_count": null,
   "metadata": {
    "deletable": false,
    "editable": false,
    "nbgrader": {
     "cell_type": "code",
     "checksum": "4d54ac89e217662559a57edd4e91eeb0",
     "grade": false,
     "grade_id": "cell-2c918c0a26d59ca9",
     "locked": true,
     "schema_version": 3,
     "solution": false,
     "task": false
    }
   },
   "outputs": [],
   "source": [
    "###Writing data to file\n",
    "#write.table(mydataframe, paste(\"~/Google Drive/University of Colorado/example.txt\", sep = \"\"), sep = \"\\t\")"
   ]
  },
  {
   "cell_type": "markdown",
   "metadata": {
    "deletable": false,
    "editable": false,
    "nbgrader": {
     "cell_type": "markdown",
     "checksum": "e079e2e54cf6bea8b5320b92b1302f73",
     "grade": false,
     "grade_id": "cell-057bd2977900e19a",
     "locked": true,
     "schema_version": 3,
     "solution": false,
     "task": false
    }
   },
   "source": [
    "Now, let's read the file you saved back into R (this is going to be important for homework assignments!). \n",
    "\n",
    "**Modify the code below to read your file back into R. Investigate what the `header` argument is doing!**\n",
    "\n",
    "Note that the `head()` function prints the first few rows of your data frame. This can be helpful when you want to see how your data are organized, but don't want to print the whole thing."
   ]
  },
  {
   "cell_type": "code",
   "execution_count": null,
   "metadata": {
    "deletable": false,
    "editable": false,
    "nbgrader": {
     "cell_type": "code",
     "checksum": "e194e02092695c1a324c3c633095175e",
     "grade": false,
     "grade_id": "cell-7684db2ed479b9c3",
     "locked": true,
     "schema_version": 3,
     "solution": false,
     "task": false
    }
   },
   "outputs": [],
   "source": [
    "#data = read.table(paste(\"~/Google Drive/University of Colorado/Boulder\",\n",
    "    #                     \"example.txt\", sep = \"\"), header = TRUE, sep = \"\\t\")\n",
    "#head(data)"
   ]
  },
  {
   "cell_type": "markdown",
   "metadata": {
    "deletable": false,
    "editable": false,
    "nbgrader": {
     "cell_type": "markdown",
     "checksum": "9cf8b16393176d7f853e28a9fb113d80",
     "grade": false,
     "grade_id": "cell-f311d3270e565a94",
     "locked": true,
     "schema_version": 3,
     "solution": false,
     "task": false
    }
   },
   "source": [
    "# Part V: Real-World Data Example\n",
    "\n",
    "\n",
    "Let's explore a [dataset](https://dasl.datadescription.com/datafile/amazon-books/?_sfm_methods=Multiple+Regression&_sfm_cases=4+59943) about book prices from Amazon. The data consists of data on $n = 325$ books and includes measurements of:\n",
    "\n",
    "- `aprice`: The price listed on Amazon (dollars)\n",
    "\n",
    "\n",
    "- `lprice`: The book's list price (dollars)\n",
    "\n",
    "\n",
    "- `weight`: The book's weight (ounces)\n",
    "\n",
    "\n",
    "- `pages`: The number of pages in the book\n",
    "\n",
    "\n",
    "- `height`: The book's height (inches)\n",
    "\n",
    "\n",
    "- `width`: The book's width (inches)\n",
    "\n",
    "\n",
    "- `thick`: The thickness of the book (inches)\n",
    "\n",
    "\n",
    "- `cover`: Whether the book is a hard cover of paperback.\n",
    "\n",
    "\n",
    "- And other variables...\n",
    "\n",
    "First, we'll read this data in from Github..."
   ]
  },
  {
   "cell_type": "code",
   "execution_count": 175,
   "metadata": {
    "deletable": false,
    "editable": false,
    "nbgrader": {
     "cell_type": "code",
     "checksum": "5929adebc0077a5c848a84d278397fd6",
     "grade": false,
     "grade_id": "cell-bf48bc0bc74275e0",
     "locked": true,
     "schema_version": 3,
     "solution": false,
     "task": false
    }
   },
   "outputs": [
    {
     "data": {
      "text/html": [
       "<style>\n",
       ".list-inline {list-style: none; margin:0; padding: 0}\n",
       ".list-inline>li {display: inline-block}\n",
       ".list-inline>li:not(:last-child)::after {content: \"\\00b7\"; padding: 0 .5ex}\n",
       "</style>\n",
       "<ol class=list-inline><li>'Title'</li><li>'Author'</li><li>'List.Price'</li><li>'Amazon.Price'</li><li>'Hard..Paper'</li><li>'NumPages'</li><li>'Publisher'</li><li>'Pub.year'</li><li>'ISBN.10'</li><li>'Height'</li><li>'Width'</li><li>'Thick'</li><li>'Weight..oz.'</li></ol>\n"
      ],
      "text/latex": [
       "\\begin{enumerate*}\n",
       "\\item 'Title'\n",
       "\\item 'Author'\n",
       "\\item 'List.Price'\n",
       "\\item 'Amazon.Price'\n",
       "\\item 'Hard..Paper'\n",
       "\\item 'NumPages'\n",
       "\\item 'Publisher'\n",
       "\\item 'Pub.year'\n",
       "\\item 'ISBN.10'\n",
       "\\item 'Height'\n",
       "\\item 'Width'\n",
       "\\item 'Thick'\n",
       "\\item 'Weight..oz.'\n",
       "\\end{enumerate*}\n"
      ],
      "text/markdown": [
       "1. 'Title'\n",
       "2. 'Author'\n",
       "3. 'List.Price'\n",
       "4. 'Amazon.Price'\n",
       "5. 'Hard..Paper'\n",
       "6. 'NumPages'\n",
       "7. 'Publisher'\n",
       "8. 'Pub.year'\n",
       "9. 'ISBN.10'\n",
       "10. 'Height'\n",
       "11. 'Width'\n",
       "12. 'Thick'\n",
       "13. 'Weight..oz.'\n",
       "\n",
       "\n"
      ],
      "text/plain": [
       " [1] \"Title\"        \"Author\"       \"List.Price\"   \"Amazon.Price\" \"Hard..Paper\" \n",
       " [6] \"NumPages\"     \"Publisher\"    \"Pub.year\"     \"ISBN.10\"      \"Height\"      \n",
       "[11] \"Width\"        \"Thick\"        \"Weight..oz.\" "
      ]
     },
     "metadata": {},
     "output_type": "display_data"
    }
   ],
   "source": [
    "library(RCurl) #a package that includes the function getURL(), which allows for reading data from github.\n",
    "library(ggplot2) #a package for nice plots!\n",
    "\n",
    "#getURL is a nice way of reading in data from the web\n",
    "url = getURL(paste0(\"https://raw.githubusercontent.com/bzaharatos/\",\n",
    "                    \"-Statistical-Modeling-for-Data-Science-Applications/\",\n",
    "                    \"master/Modern%20Regression%20Analysis%20/Datasets/amazon.txt\"))\n",
    "#stores the data in the dataframe amazon\n",
    "amazon = read.csv(text = url, sep = \"\\t\")\n",
    "\n",
    "#prints the names in the dataframe\n",
    "names(amazon)"
   ]
  },
  {
   "cell_type": "markdown",
   "metadata": {
    "deletable": false,
    "editable": false,
    "nbgrader": {
     "cell_type": "markdown",
     "checksum": "cda684cb34a89e58c5dc0badcbf0ecd3",
     "grade": false,
     "grade_id": "cell-30085bf34985bca5",
     "locked": true,
     "schema_version": 3,
     "solution": false,
     "task": false
    }
   },
   "source": [
    "Next, let's create a new data frame, called `df`, and store a subset of the variables. In addition, we'll change the names of the variables in the dataframe to something cleaner and easier to work with. Take note of how to do this :)"
   ]
  },
  {
   "cell_type": "code",
   "execution_count": 176,
   "metadata": {
    "deletable": false,
    "editable": false,
    "nbgrader": {
     "cell_type": "code",
     "checksum": "ddc1b78cbe86da0177a4d4246fac1d44",
     "grade": false,
     "grade_id": "cell-5b08e88209dd96c5",
     "locked": true,
     "schema_version": 3,
     "solution": false,
     "task": false
    }
   },
   "outputs": [
    {
     "data": {
      "text/plain": [
       "     aprice           lprice           pages           width      \n",
       " Min.   :  0.77   Min.   :  1.50   Min.   : 24.0   Min.   :4.100  \n",
       " 1st Qu.:  8.60   1st Qu.: 13.95   1st Qu.:208.0   1st Qu.:5.200  \n",
       " Median : 10.20   Median : 15.00   Median :320.0   Median :5.400  \n",
       " Mean   : 13.33   Mean   : 18.58   Mean   :335.9   Mean   :5.585  \n",
       " 3rd Qu.: 13.13   3rd Qu.: 19.95   3rd Qu.:416.0   3rd Qu.:5.900  \n",
       " Max.   :139.95   Max.   :139.95   Max.   :896.0   Max.   :9.500  \n",
       "                  NA's   :1        NA's   :2       NA's   :5      \n",
       "     weight          height           thick        cover  \n",
       " Min.   : 1.20   Min.   : 5.100   Min.   :0.1000   H: 89  \n",
       " 1st Qu.: 7.80   1st Qu.: 7.900   1st Qu.:0.6000   P:236  \n",
       " Median :11.20   Median : 8.100   Median :0.9000          \n",
       " Mean   :12.49   Mean   : 8.163   Mean   :0.9077          \n",
       " 3rd Qu.:16.00   3rd Qu.: 8.500   3rd Qu.:1.1000          \n",
       " Max.   :35.20   Max.   :12.100   Max.   :2.1000          \n",
       " NA's   :9       NA's   :4        NA's   :1               "
      ]
     },
     "metadata": {},
     "output_type": "display_data"
    }
   ],
   "source": [
    "df = data.frame(aprice = amazon$Amazon.Price, lprice = as.numeric(amazon$List.Price),  \n",
    "                pages = amazon$NumPages, width = amazon$Width, weight = amazon$Weight..oz,  \n",
    "                height = amazon$Height, thick = amazon$Thick, cover = amazon$Hard..Paper)\n",
    "\n",
    "summary(df)\n"
   ]
  },
  {
   "cell_type": "code",
   "execution_count": 179,
   "metadata": {},
   "outputs": [
    {
     "data": {
      "text/html": [
       "<table>\n",
       "<caption>A data.frame: 6 × 8</caption>\n",
       "<thead>\n",
       "\t<tr><th></th><th scope=col>aprice</th><th scope=col>lprice</th><th scope=col>pages</th><th scope=col>width</th><th scope=col>weight</th><th scope=col>height</th><th scope=col>thick</th><th scope=col>cover</th></tr>\n",
       "\t<tr><th></th><th scope=col>&lt;dbl&gt;</th><th scope=col>&lt;dbl&gt;</th><th scope=col>&lt;int&gt;</th><th scope=col>&lt;dbl&gt;</th><th scope=col>&lt;dbl&gt;</th><th scope=col>&lt;dbl&gt;</th><th scope=col>&lt;dbl&gt;</th><th scope=col>&lt;fct&gt;</th></tr>\n",
       "</thead>\n",
       "<tbody>\n",
       "\t<tr><th scope=row>1</th><td> 5.18</td><td>12.95</td><td>304</td><td>5.5</td><td>11.2</td><td>7.8</td><td>0.8</td><td>P</td></tr>\n",
       "\t<tr><th scope=row>2</th><td>10.20</td><td>15.00</td><td>273</td><td>5.5</td><td> 7.2</td><td>8.4</td><td>0.7</td><td>P</td></tr>\n",
       "\t<tr><th scope=row>3</th><td> 1.50</td><td> 1.50</td><td> 96</td><td>5.2</td><td> 4.0</td><td>8.3</td><td>0.3</td><td>P</td></tr>\n",
       "\t<tr><th scope=row>4</th><td>10.87</td><td>15.99</td><td>672</td><td>6.0</td><td>28.8</td><td>8.8</td><td>1.6</td><td>P</td></tr>\n",
       "\t<tr><th scope=row>5</th><td>16.77</td><td>30.50</td><td>720</td><td>5.2</td><td>22.4</td><td>8.0</td><td>1.4</td><td>P</td></tr>\n",
       "\t<tr><th scope=row>6</th><td>16.44</td><td>28.95</td><td>460</td><td>6.3</td><td>32.0</td><td>8.9</td><td>1.7</td><td>H</td></tr>\n",
       "</tbody>\n",
       "</table>\n"
      ],
      "text/latex": [
       "A data.frame: 6 × 8\n",
       "\\begin{tabular}{r|llllllll}\n",
       "  & aprice & lprice & pages & width & weight & height & thick & cover\\\\\n",
       "  & <dbl> & <dbl> & <int> & <dbl> & <dbl> & <dbl> & <dbl> & <fct>\\\\\n",
       "\\hline\n",
       "\t1 &  5.18 & 12.95 & 304 & 5.5 & 11.2 & 7.8 & 0.8 & P\\\\\n",
       "\t2 & 10.20 & 15.00 & 273 & 5.5 &  7.2 & 8.4 & 0.7 & P\\\\\n",
       "\t3 &  1.50 &  1.50 &  96 & 5.2 &  4.0 & 8.3 & 0.3 & P\\\\\n",
       "\t4 & 10.87 & 15.99 & 672 & 6.0 & 28.8 & 8.8 & 1.6 & P\\\\\n",
       "\t5 & 16.77 & 30.50 & 720 & 5.2 & 22.4 & 8.0 & 1.4 & P\\\\\n",
       "\t6 & 16.44 & 28.95 & 460 & 6.3 & 32.0 & 8.9 & 1.7 & H\\\\\n",
       "\\end{tabular}\n"
      ],
      "text/markdown": [
       "\n",
       "A data.frame: 6 × 8\n",
       "\n",
       "| <!--/--> | aprice &lt;dbl&gt; | lprice &lt;dbl&gt; | pages &lt;int&gt; | width &lt;dbl&gt; | weight &lt;dbl&gt; | height &lt;dbl&gt; | thick &lt;dbl&gt; | cover &lt;fct&gt; |\n",
       "|---|---|---|---|---|---|---|---|---|\n",
       "| 1 |  5.18 | 12.95 | 304 | 5.5 | 11.2 | 7.8 | 0.8 | P |\n",
       "| 2 | 10.20 | 15.00 | 273 | 5.5 |  7.2 | 8.4 | 0.7 | P |\n",
       "| 3 |  1.50 |  1.50 |  96 | 5.2 |  4.0 | 8.3 | 0.3 | P |\n",
       "| 4 | 10.87 | 15.99 | 672 | 6.0 | 28.8 | 8.8 | 1.6 | P |\n",
       "| 5 | 16.77 | 30.50 | 720 | 5.2 | 22.4 | 8.0 | 1.4 | P |\n",
       "| 6 | 16.44 | 28.95 | 460 | 6.3 | 32.0 | 8.9 | 1.7 | H |\n",
       "\n"
      ],
      "text/plain": [
       "  aprice lprice pages width weight height thick cover\n",
       "1  5.18  12.95  304   5.5   11.2   7.8    0.8   P    \n",
       "2 10.20  15.00  273   5.5    7.2   8.4    0.7   P    \n",
       "3  1.50   1.50   96   5.2    4.0   8.3    0.3   P    \n",
       "4 10.87  15.99  672   6.0   28.8   8.8    1.6   P    \n",
       "5 16.77  30.50  720   5.2   22.4   8.0    1.4   P    \n",
       "6 16.44  28.95  460   6.3   32.0   8.9    1.7   H    "
      ]
     },
     "metadata": {},
     "output_type": "display_data"
    }
   ],
   "source": [
    "head(df)"
   ]
  },
  {
   "cell_type": "markdown",
   "metadata": {
    "deletable": false,
    "editable": false,
    "nbgrader": {
     "cell_type": "markdown",
     "checksum": "8749f89006f7b3ed5e23f64719f23ca1",
     "grade": false,
     "grade_id": "cell-49e2cc4014b2bb7d",
     "locked": true,
     "schema_version": 3,
     "solution": false,
     "task": false
    }
   },
   "source": [
    "From the summary, we can see that there are missing values in the dataset, coded as `NA`. There are many ways to deal with missing data. Suppose that sample unit $i$ has a missing measurement for variable $z_j$. We could:\n",
    "\n",
    "1. Delete sample unit $i$ from the dataset, i.e., delete the entire row. That might be reasonable if there are very view missing values and if we think the values are missing at random.\n",
    "\n",
    "2. Delete the variable $z_j$ from the dataset, i.e., delete the entire column. This might be reasonable if there are many many other missing values for $z_j$ and if we think $z_j$ might not be neccesary for our overall prediction/explanation goals.\n",
    "\n",
    "3.  Impute missing values by substituting each missing value with an estimate.\n",
    "\n",
    "For more information on missing values, see this [resource](https://www.bu.edu/sph/files/2014/05/Marina-tech-report.pdf).\n",
    "\n",
    "Since most of our columns/variables are not missing values, and since these variables will be useful to us in our analysis, option 2 seems unreasonable. Let's first try option 3: impute the missing values of `lprice`, `pages`, `width`, `weight`, `height`, and `thick` with the mean of each. The `which()` and `is.na()` functions might help:"
   ]
  },
  {
   "cell_type": "code",
   "execution_count": 180,
   "metadata": {
    "deletable": false,
    "editable": false,
    "nbgrader": {
     "cell_type": "code",
     "checksum": "6407576a324d7046328ca3793deb1598",
     "grade": false,
     "grade_id": "cell-682d4c0f562df588",
     "locked": true,
     "schema_version": 3,
     "solution": false,
     "task": false
    }
   },
   "outputs": [
    {
     "data": {
      "text/html": [
       "205"
      ],
      "text/latex": [
       "205"
      ],
      "text/markdown": [
       "205"
      ],
      "text/plain": [
       "[1] 205"
      ]
     },
     "metadata": {},
     "output_type": "display_data"
    }
   ],
   "source": [
    "which(is.na(df$lprice))"
   ]
  },
  {
   "cell_type": "code",
   "execution_count": 181,
   "metadata": {
    "deletable": false,
    "nbgrader": {
     "cell_type": "code",
     "checksum": "a42fb569f81bc9330a809e371fea80d4",
     "grade": false,
     "grade_id": "cell-51e343bf94becddd",
     "locked": false,
     "schema_version": 3,
     "solution": true,
     "task": false
    }
   },
   "outputs": [
    {
     "data": {
      "text/plain": [
       "     aprice           lprice           pages           width      \n",
       " Min.   :  0.77   Min.   :  1.50   Min.   : 24.0   Min.   :4.100  \n",
       " 1st Qu.:  8.60   1st Qu.: 13.95   1st Qu.:208.0   1st Qu.:5.200  \n",
       " Median : 10.20   Median : 15.00   Median :320.0   Median :5.400  \n",
       " Mean   : 13.33   Mean   : 18.58   Mean   :335.9   Mean   :5.585  \n",
       " 3rd Qu.: 13.13   3rd Qu.: 19.95   3rd Qu.:416.0   3rd Qu.:5.900  \n",
       " Max.   :139.95   Max.   :139.95   Max.   :896.0   Max.   :9.500  \n",
       "                  NA's   :1        NA's   :2       NA's   :5      \n",
       "     weight          height           thick        cover  \n",
       " Min.   : 1.20   Min.   : 5.100   Min.   :0.1000   H: 89  \n",
       " 1st Qu.: 7.80   1st Qu.: 7.900   1st Qu.:0.6000   P:236  \n",
       " Median :11.20   Median : 8.100   Median :0.9000          \n",
       " Mean   :12.49   Mean   : 8.163   Mean   :0.9077          \n",
       " 3rd Qu.:16.00   3rd Qu.: 8.500   3rd Qu.:1.1000          \n",
       " Max.   :35.20   Max.   :12.100   Max.   :2.1000          \n",
       " NA's   :9       NA's   :4        NA's   :1               "
      ]
     },
     "metadata": {},
     "output_type": "display_data"
    }
   ],
   "source": [
    "# your code here\n",
    "\n",
    "summary(df)"
   ]
  },
  {
   "cell_type": "code",
   "execution_count": null,
   "metadata": {
    "deletable": false,
    "editable": false,
    "nbgrader": {
     "cell_type": "code",
     "checksum": "8f2f74f880c7c6c4950bec19a42eb1f2",
     "grade": true,
     "grade_id": "cell-a95747020e7b897e",
     "locked": true,
     "points": 1,
     "schema_version": 3,
     "solution": false,
     "task": false
    }
   },
   "outputs": [],
   "source": []
  },
  {
   "cell_type": "markdown",
   "metadata": {
    "deletable": false,
    "editable": false,
    "nbgrader": {
     "cell_type": "markdown",
     "checksum": "19975871e9c1938da8183306f2249dbe",
     "grade": false,
     "grade_id": "cell-1e5018df495011b9",
     "locked": true,
     "schema_version": 3,
     "solution": false,
     "task": false
    }
   },
   "source": [
    "#### Use the `summary()` function to print numerical summaries of this dataset. "
   ]
  },
  {
   "cell_type": "code",
   "execution_count": 196,
   "metadata": {
    "deletable": false,
    "nbgrader": {
     "cell_type": "code",
     "checksum": "8c44040768da6533d0e8a775bc213d20",
     "grade": true,
     "grade_id": "cell-fa0930e7fb0848a7",
     "locked": false,
     "points": 0,
     "schema_version": 3,
     "solution": true,
     "task": false
    }
   },
   "outputs": [
    {
     "data": {
      "text/plain": [
       "     aprice           lprice           pages           width      \n",
       " Min.   :  0.77   Min.   :  1.50   Min.   : 24.0   Min.   :4.100  \n",
       " 1st Qu.:  8.60   1st Qu.: 13.95   1st Qu.:208.0   1st Qu.:5.200  \n",
       " Median : 10.20   Median : 15.00   Median :320.0   Median :5.400  \n",
       " Mean   : 13.33   Mean   : 18.58   Mean   :335.9   Mean   :5.585  \n",
       " 3rd Qu.: 13.13   3rd Qu.: 19.95   3rd Qu.:416.0   3rd Qu.:5.900  \n",
       " Max.   :139.95   Max.   :139.95   Max.   :896.0   Max.   :9.500  \n",
       "                  NA's   :1        NA's   :2       NA's   :5      \n",
       "     weight          height           thick        cover  \n",
       " Min.   : 1.20   Min.   : 5.100   Min.   :0.1000   H: 89  \n",
       " 1st Qu.: 7.80   1st Qu.: 7.900   1st Qu.:0.6000   P:236  \n",
       " Median :11.20   Median : 8.100   Median :0.9000          \n",
       " Mean   :12.49   Mean   : 8.163   Mean   :0.9077          \n",
       " 3rd Qu.:16.00   3rd Qu.: 8.500   3rd Qu.:1.1000          \n",
       " Max.   :35.20   Max.   :12.100   Max.   :2.1000          \n",
       " NA's   :9       NA's   :4        NA's   :1               "
      ]
     },
     "metadata": {},
     "output_type": "display_data"
    }
   ],
   "source": [
    "# your code here\n",
    "summary(df)"
   ]
  },
  {
   "cell_type": "markdown",
   "metadata": {
    "deletable": false,
    "editable": false,
    "nbgrader": {
     "cell_type": "markdown",
     "checksum": "53552406d15dd125ea8f726d259c5cb0",
     "grade": false,
     "grade_id": "cell-0ec9894ac6aded1f",
     "locked": true,
     "schema_version": 3,
     "solution": false,
     "task": false
    }
   },
   "source": [
    "#### Use the `sort()` function to order the`lprice` variable from lowest to highest. Remember to use the `df` data frame!"
   ]
  },
  {
   "cell_type": "code",
   "execution_count": 240,
   "metadata": {
    "deletable": false,
    "nbgrader": {
     "cell_type": "code",
     "checksum": "39d99b555ea1cdddf80b50bce6b701da",
     "grade": true,
     "grade_id": "cell-dbf19728a4143ca9",
     "locked": false,
     "points": 0,
     "schema_version": 3,
     "solution": true,
     "task": false
    }
   },
   "outputs": [],
   "source": [
    "# your code here\n",
    "df_new = df[\n",
    "  with(df, order(df$lprice)),\n",
    "]"
   ]
  },
  {
   "cell_type": "code",
   "execution_count": 217,
   "metadata": {},
   "outputs": [],
   "source": [
    "# df_new$lprice"
   ]
  },
  {
   "cell_type": "markdown",
   "metadata": {
    "deletable": false,
    "editable": false,
    "nbgrader": {
     "cell_type": "markdown",
     "checksum": "092d6f86104e4510b618b2fd2d8c96e6",
     "grade": false,
     "grade_id": "cell-a04f79d0a3404a7f",
     "locked": true,
     "schema_version": 3,
     "solution": false,
     "task": false
    }
   },
   "source": [
    "#### Code the `cover`  varible as a factor."
   ]
  },
  {
   "cell_type": "code",
   "execution_count": 225,
   "metadata": {
    "deletable": false,
    "nbgrader": {
     "cell_type": "code",
     "checksum": "964ef0ff1e9a7567bbf616bccc2eff39",
     "grade": false,
     "grade_id": "cell-00b558fade12e38d",
     "locked": false,
     "schema_version": 3,
     "solution": true,
     "task": false
    }
   },
   "outputs": [],
   "source": [
    "# your code here\n",
    "cover = factor(df_new$cover)"
   ]
  },
  {
   "cell_type": "code",
   "execution_count": null,
   "metadata": {
    "deletable": false,
    "editable": false,
    "nbgrader": {
     "cell_type": "code",
     "checksum": "3e52988746aa14b7e953c0f6e3ce43e8",
     "grade": true,
     "grade_id": "cell-d3b231c19c8662f2",
     "locked": true,
     "points": 1,
     "schema_version": 3,
     "solution": false,
     "task": false
    }
   },
   "outputs": [],
   "source": []
  },
  {
   "cell_type": "code",
   "execution_count": 226,
   "metadata": {},
   "outputs": [
    {
     "data": {
      "text/html": [
       "<style>\n",
       ".list-inline {list-style: none; margin:0; padding: 0}\n",
       ".list-inline>li {display: inline-block}\n",
       ".list-inline>li:not(:last-child)::after {content: \"\\00b7\"; padding: 0 .5ex}\n",
       "</style>\n",
       "<ol class=list-inline><li>'H'</li><li>'P'</li></ol>\n"
      ],
      "text/latex": [
       "\\begin{enumerate*}\n",
       "\\item 'H'\n",
       "\\item 'P'\n",
       "\\end{enumerate*}\n"
      ],
      "text/markdown": [
       "1. 'H'\n",
       "2. 'P'\n",
       "\n",
       "\n"
      ],
      "text/plain": [
       "[1] \"H\" \"P\""
      ]
     },
     "metadata": {},
     "output_type": "display_data"
    }
   ],
   "source": [
    "levels(cover)"
   ]
  },
  {
   "cell_type": "markdown",
   "metadata": {
    "deletable": false,
    "editable": false,
    "nbgrader": {
     "cell_type": "markdown",
     "checksum": "829463ee6acfb365b883a50836b67879",
     "grade": false,
     "grade_id": "cell-ddabb3f4c0f62f4f",
     "locked": true,
     "schema_version": 3,
     "solution": false,
     "task": false
    }
   },
   "source": [
    "#### Note that you could provide more descriptive labels for the levels of this factor (note that `H` = \"Hardcover\" and `P` = \"Paperback\"). The easiest way do do this is with the `levels()` function: `levels(x) = value`. "
   ]
  },
  {
   "cell_type": "code",
   "execution_count": 227,
   "metadata": {
    "deletable": false,
    "editable": false,
    "nbgrader": {
     "cell_type": "code",
     "checksum": "c12849d35e7f5abfb4af9589ab95cc9c",
     "grade": false,
     "grade_id": "cell-8f8a17835be237a1",
     "locked": true,
     "schema_version": 3,
     "solution": false,
     "task": false
    }
   },
   "outputs": [
    {
     "data": {
      "text/plain": [
       "     aprice           lprice           pages           width      \n",
       " Min.   :  0.77   Min.   :  1.50   Min.   : 24.0   Min.   :4.100  \n",
       " 1st Qu.:  8.60   1st Qu.: 13.95   1st Qu.:208.0   1st Qu.:5.200  \n",
       " Median : 10.20   Median : 15.00   Median :320.0   Median :5.400  \n",
       " Mean   : 13.33   Mean   : 18.58   Mean   :335.9   Mean   :5.585  \n",
       " 3rd Qu.: 13.13   3rd Qu.: 19.95   3rd Qu.:416.0   3rd Qu.:5.900  \n",
       " Max.   :139.95   Max.   :139.95   Max.   :896.0   Max.   :9.500  \n",
       "                  NA's   :1        NA's   :2       NA's   :5      \n",
       "     weight          height           thick              cover    \n",
       " Min.   : 1.20   Min.   : 5.100   Min.   :0.1000   Hardcover: 89  \n",
       " 1st Qu.: 7.80   1st Qu.: 7.900   1st Qu.:0.6000   Paperback:236  \n",
       " Median :11.20   Median : 8.100   Median :0.9000                  \n",
       " Mean   :12.49   Mean   : 8.163   Mean   :0.9077                  \n",
       " 3rd Qu.:16.00   3rd Qu.: 8.500   3rd Qu.:1.1000                  \n",
       " Max.   :35.20   Max.   :12.100   Max.   :2.1000                  \n",
       " NA's   :9       NA's   :4        NA's   :1                       "
      ]
     },
     "metadata": {},
     "output_type": "display_data"
    }
   ],
   "source": [
    "levels(df$cover) = c(\"Hardcover\",\"Paperback\")\n",
    "summary(df)"
   ]
  },
  {
   "cell_type": "markdown",
   "metadata": {
    "deletable": false,
    "editable": false,
    "nbgrader": {
     "cell_type": "markdown",
     "checksum": "9954cd23685f3edef02f03775ad7d905",
     "grade": false,
     "grade_id": "cell-0c5f9ab6045d4f7a",
     "locked": true,
     "schema_version": 3,
     "solution": false,
     "task": false
    }
   },
   "source": [
    "#### Print a histogram of the `pages` variable. Comment on it's shape."
   ]
  },
  {
   "cell_type": "code",
   "execution_count": 230,
   "metadata": {
    "deletable": false,
    "nbgrader": {
     "cell_type": "code",
     "checksum": "c8418edf654a9c02b416b8269995a1ed",
     "grade": true,
     "grade_id": "cell-e985293a62940ef7",
     "locked": false,
     "points": 0,
     "schema_version": 3,
     "solution": true,
     "task": false
    }
   },
   "outputs": [
    {
     "data": {
      "image/png": "[encoded data removed]",
      "text/plain": [
       "Plot with title “Histogram of df$pages”"
      ]
     },
     "metadata": {
      "image/png": {
       "height": 420,
       "width": 420
      },
      "text/plain": {
       "height": 420,
       "width": 420
      }
     },
     "output_type": "display_data"
    }
   ],
   "source": [
    "# your code here\n",
    "hist(df$pages, density = 20)"
   ]
  },
  {
   "cell_type": "markdown",
   "metadata": {
    "deletable": false,
    "nbgrader": {
     "cell_type": "markdown",
     "checksum": "cec5b2e8214469dcd2a6efd0f885aeeb",
     "grade": true,
     "grade_id": "cell-c092ae95b3dd2f02",
     "locked": false,
     "points": 0,
     "schema_version": 3,
     "solution": true,
     "task": false
    }
   },
   "source": [
    "YOUR ANSWER HERE\n",
    "Skewed right"
   ]
  },
  {
   "cell_type": "markdown",
   "metadata": {
    "deletable": false,
    "editable": false,
    "nbgrader": {
     "cell_type": "markdown",
     "checksum": "83e0b175247cf3aebaf454a70afd095b",
     "grade": false,
     "grade_id": "cell-bcf9df5a9a9f9f9a",
     "locked": true,
     "schema_version": 3,
     "solution": false,
     "task": false
    }
   },
   "source": [
    "#### Use the `plot()` function to produce a scatterplot of `aprice` ($y$) against `lprice` ($x$). What do you notice about this plot?"
   ]
  },
  {
   "cell_type": "code",
   "execution_count": 242,
   "metadata": {
    "deletable": false,
    "nbgrader": {
     "cell_type": "code",
     "checksum": "8f6e666472a2455df3345fb91044b973",
     "grade": true,
     "grade_id": "cell-10715440cbfc4328",
     "locked": false,
     "points": 0,
     "schema_version": 3,
     "solution": true,
     "task": false
    }
   },
   "outputs": [
    {
     "data": {
      "image/png": "[encoded data removed]",
      "text/plain": [
       "plot without title"
      ]
     },
     "metadata": {
      "image/png": {
       "height": 420,
       "width": 420
      },
      "text/plain": {
       "height": 420,
       "width": 420
      }
     },
     "output_type": "display_data"
    }
   ],
   "source": [
    "# your code here\n",
    "plot(df_new$aprice, df_new$lprice, type='o', col=c('blue', 'orange'), xlab='a-price', yla='l-price')"
   ]
  },
  {
   "cell_type": "markdown",
   "metadata": {
    "deletable": false,
    "nbgrader": {
     "cell_type": "markdown",
     "checksum": "df95326a14ad164ee4c6d360b5daea28",
     "grade": true,
     "grade_id": "cell-8a92f7e5688ebef9",
     "locked": false,
     "points": 0,
     "schema_version": 3,
     "solution": true,
     "task": false
    }
   },
   "source": [
    "YOUR ANSWER HERE\n",
    "Seems to have a positive correlation btw aprice and lprice"
   ]
  },
  {
   "cell_type": "markdown",
   "metadata": {
    "deletable": false,
    "editable": false,
    "nbgrader": {
     "cell_type": "markdown",
     "checksum": "83a64a7cf668fbcd711cef326e8b8328",
     "grade": false,
     "grade_id": "cell-c5aa494c40ce32a9",
     "locked": true,
     "schema_version": 3,
     "solution": false,
     "task": false
    }
   },
   "source": [
    "#### Use the `boxplot()` function to produce a boxplot of `pages` conditioned on `cover`. Interpret this plot."
   ]
  },
  {
   "cell_type": "code",
   "execution_count": 253,
   "metadata": {
    "deletable": false,
    "nbgrader": {
     "cell_type": "code",
     "checksum": "466a639377b5d1628b87a05f878cb517",
     "grade": true,
     "grade_id": "cell-75862cff4a93c8f5",
     "locked": false,
     "points": 0,
     "schema_version": 3,
     "solution": true,
     "task": false
    }
   },
   "outputs": [
    {
     "data": {
      "image/png": "[encoded data removed]",
      "text/plain": [
       "plot without title"
      ]
     },
     "metadata": {
      "image/png": {
       "height": 420,
       "width": 420
      },
      "text/plain": {
       "height": 420,
       "width": 420
      }
     },
     "output_type": "display_data"
    }
   ],
   "source": [
    "# your code here\n",
    "boxplot(df$pages, df$cover)"
   ]
  },
  {
   "cell_type": "markdown",
   "metadata": {
    "deletable": false,
    "nbgrader": {
     "cell_type": "markdown",
     "checksum": "5b2d0c134dbbafba3398870f33d00078",
     "grade": true,
     "grade_id": "cell-d3bce347cdf5a62e",
     "locked": false,
     "points": 0,
     "schema_version": 3,
     "solution": true,
     "task": false
    }
   },
   "source": [
    "YOUR ANSWER HERE"
   ]
  },
  {
   "cell_type": "markdown",
   "metadata": {
    "deletable": false,
    "editable": false,
    "nbgrader": {
     "cell_type": "markdown",
     "checksum": "631e518743d1cf6fe738b120b011175d",
     "grade": false,
     "grade_id": "cell-6132102c0a984443",
     "locked": true,
     "schema_version": 3,
     "solution": false,
     "task": false
    }
   },
   "source": [
    "Note another way to read data from the web..."
   ]
  },
  {
   "cell_type": "code",
   "execution_count": 248,
   "metadata": {
    "deletable": false,
    "editable": false,
    "nbgrader": {
     "cell_type": "code",
     "checksum": "963a35afad4a5e13c90538507dd9dfa0",
     "grade": false,
     "grade_id": "cell-6982a3c861737ad0",
     "locked": true,
     "schema_version": 3,
     "solution": false,
     "task": false
    }
   },
   "outputs": [
    {
     "name": "stderr",
     "output_type": "stream",
     "text": [
      "Warning message in file(file, \"rt\"):\n",
      "“URL 'http://www.stats.ox.ac.uk/pub/datasets/csb/ch11b.dat': status was 'Server returned nothing (no headers, no data)'”\n"
     ]
    },
    {
     "ename": "ERROR",
     "evalue": "Error in file(file, \"rt\"): cannot open the connection to 'http://www.stats.ox.ac.uk/pub/datasets/csb/ch11b.dat'\n",
     "output_type": "error",
     "traceback": [
      "Error in file(file, \"rt\"): cannot open the connection to 'http://www.stats.ox.ac.uk/pub/datasets/csb/ch11b.dat'\nTraceback:\n",
      "1. read.table(\"http://www.stats.ox.ac.uk/pub/datasets/csb/ch11b.dat\")",
      "2. file(file, \"rt\")"
     ]
    }
   ],
   "source": [
    "### Reading data from the web...\n",
    "read.table(\"http://www.stats.ox.ac.uk/pub/datasets/csb/ch11b.dat\")"
   ]
  },
  {
   "cell_type": "code",
   "execution_count": null,
   "metadata": {},
   "outputs": [],
   "source": []
  }
 ],
 "metadata": {
  "kernelspec": {
   "display_name": "R",
   "language": "R",
   "name": "ir"
  },
  "language_info": {
   "codemirror_mode": "r",
   "file_extension": ".r",
   "mimetype": "text/x-r-source",
   "name": "R",
   "pygments_lexer": "r",
   "version": "3.6.3"
  }
 },
 "nbformat": 4,
 "nbformat_minor": 2
}
